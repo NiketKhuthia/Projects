{
 "cells": [
  {
   "cell_type": "code",
   "execution_count": 1,
   "id": "108bf3d8",
   "metadata": {},
   "outputs": [],
   "source": [
    "#pip install Pyforest \n",
    "#code for installing required libraries in environment"
   ]
  },
  {
   "cell_type": "code",
   "execution_count": 2,
   "id": "c51ce69e",
   "metadata": {},
   "outputs": [],
   "source": [
    "#pip install -U klib\n",
    "import klib #Using Klib fot EDA Purpose"
   ]
  },
  {
   "cell_type": "code",
   "execution_count": 3,
   "id": "c544cafe",
   "metadata": {},
   "outputs": [
    {
     "data": {
      "application/javascript": [
       "\n",
       "        if (window._pyforest_update_imports_cell) { window._pyforest_update_imports_cell('import pandas as pd'); }\n",
       "    "
      ],
      "text/plain": [
       "<IPython.core.display.Javascript object>"
      ]
     },
     "metadata": {},
     "output_type": "display_data"
    },
    {
     "data": {
      "application/javascript": [
       "\n",
       "        if (window._pyforest_update_imports_cell) { window._pyforest_update_imports_cell('import pandas as pd'); }\n",
       "    "
      ],
      "text/plain": [
       "<IPython.core.display.Javascript object>"
      ]
     },
     "metadata": {},
     "output_type": "display_data"
    }
   ],
   "source": [
    "df=pd.read_csv(\"TRAIN.csv\") #importing the data\n",
    "df_test_final=pd.read_csv(\"TEST_FINAL.csv\") #importing the data"
   ]
  },
  {
   "cell_type": "code",
   "execution_count": 4,
   "id": "a4a40eeb",
   "metadata": {},
   "outputs": [
    {
     "data": {
      "text/html": [
       "<div>\n",
       "<style scoped>\n",
       "    .dataframe tbody tr th:only-of-type {\n",
       "        vertical-align: middle;\n",
       "    }\n",
       "\n",
       "    .dataframe tbody tr th {\n",
       "        vertical-align: top;\n",
       "    }\n",
       "\n",
       "    .dataframe thead th {\n",
       "        text-align: right;\n",
       "    }\n",
       "</style>\n",
       "<table border=\"1\" class=\"dataframe\">\n",
       "  <thead>\n",
       "    <tr style=\"text-align: right;\">\n",
       "      <th></th>\n",
       "      <th>ID</th>\n",
       "      <th>Store_id</th>\n",
       "      <th>Store_Type</th>\n",
       "      <th>Location_Type</th>\n",
       "      <th>Region_Code</th>\n",
       "      <th>Date</th>\n",
       "      <th>Holiday</th>\n",
       "      <th>Discount</th>\n",
       "      <th>#Order</th>\n",
       "      <th>Sales</th>\n",
       "    </tr>\n",
       "  </thead>\n",
       "  <tbody>\n",
       "    <tr>\n",
       "      <th>0</th>\n",
       "      <td>T1000001</td>\n",
       "      <td>1</td>\n",
       "      <td>S1</td>\n",
       "      <td>L3</td>\n",
       "      <td>R1</td>\n",
       "      <td>2018-01-01</td>\n",
       "      <td>1</td>\n",
       "      <td>Yes</td>\n",
       "      <td>9</td>\n",
       "      <td>7011.84</td>\n",
       "    </tr>\n",
       "    <tr>\n",
       "      <th>1</th>\n",
       "      <td>T1000002</td>\n",
       "      <td>253</td>\n",
       "      <td>S4</td>\n",
       "      <td>L2</td>\n",
       "      <td>R1</td>\n",
       "      <td>2018-01-01</td>\n",
       "      <td>1</td>\n",
       "      <td>Yes</td>\n",
       "      <td>60</td>\n",
       "      <td>51789.12</td>\n",
       "    </tr>\n",
       "    <tr>\n",
       "      <th>2</th>\n",
       "      <td>T1000003</td>\n",
       "      <td>252</td>\n",
       "      <td>S3</td>\n",
       "      <td>L2</td>\n",
       "      <td>R1</td>\n",
       "      <td>2018-01-01</td>\n",
       "      <td>1</td>\n",
       "      <td>Yes</td>\n",
       "      <td>42</td>\n",
       "      <td>36868.20</td>\n",
       "    </tr>\n",
       "    <tr>\n",
       "      <th>3</th>\n",
       "      <td>T1000004</td>\n",
       "      <td>251</td>\n",
       "      <td>S2</td>\n",
       "      <td>L3</td>\n",
       "      <td>R1</td>\n",
       "      <td>2018-01-01</td>\n",
       "      <td>1</td>\n",
       "      <td>Yes</td>\n",
       "      <td>23</td>\n",
       "      <td>19715.16</td>\n",
       "    </tr>\n",
       "    <tr>\n",
       "      <th>4</th>\n",
       "      <td>T1000005</td>\n",
       "      <td>250</td>\n",
       "      <td>S2</td>\n",
       "      <td>L3</td>\n",
       "      <td>R4</td>\n",
       "      <td>2018-01-01</td>\n",
       "      <td>1</td>\n",
       "      <td>Yes</td>\n",
       "      <td>62</td>\n",
       "      <td>45614.52</td>\n",
       "    </tr>\n",
       "  </tbody>\n",
       "</table>\n",
       "</div>"
      ],
      "text/plain": [
       "         ID  Store_id Store_Type Location_Type Region_Code        Date  \\\n",
       "0  T1000001         1         S1            L3          R1  2018-01-01   \n",
       "1  T1000002       253         S4            L2          R1  2018-01-01   \n",
       "2  T1000003       252         S3            L2          R1  2018-01-01   \n",
       "3  T1000004       251         S2            L3          R1  2018-01-01   \n",
       "4  T1000005       250         S2            L3          R4  2018-01-01   \n",
       "\n",
       "   Holiday Discount  #Order     Sales  \n",
       "0        1      Yes       9   7011.84  \n",
       "1        1      Yes      60  51789.12  \n",
       "2        1      Yes      42  36868.20  \n",
       "3        1      Yes      23  19715.16  \n",
       "4        1      Yes      62  45614.52  "
      ]
     },
     "execution_count": 4,
     "metadata": {},
     "output_type": "execute_result"
    }
   ],
   "source": [
    "df.head() #Viewing the data"
   ]
  },
  {
   "cell_type": "code",
   "execution_count": 5,
   "id": "9e0850e2",
   "metadata": {},
   "outputs": [
    {
     "data": {
      "text/html": [
       "<div>\n",
       "<style scoped>\n",
       "    .dataframe tbody tr th:only-of-type {\n",
       "        vertical-align: middle;\n",
       "    }\n",
       "\n",
       "    .dataframe tbody tr th {\n",
       "        vertical-align: top;\n",
       "    }\n",
       "\n",
       "    .dataframe thead th {\n",
       "        text-align: right;\n",
       "    }\n",
       "</style>\n",
       "<table border=\"1\" class=\"dataframe\">\n",
       "  <thead>\n",
       "    <tr style=\"text-align: right;\">\n",
       "      <th></th>\n",
       "      <th>ID</th>\n",
       "      <th>Store_id</th>\n",
       "      <th>Store_Type</th>\n",
       "      <th>Location_Type</th>\n",
       "      <th>Region_Code</th>\n",
       "      <th>Date</th>\n",
       "      <th>Holiday</th>\n",
       "      <th>Discount</th>\n",
       "    </tr>\n",
       "  </thead>\n",
       "  <tbody>\n",
       "    <tr>\n",
       "      <th>0</th>\n",
       "      <td>T1188341</td>\n",
       "      <td>171</td>\n",
       "      <td>S4</td>\n",
       "      <td>L2</td>\n",
       "      <td>R3</td>\n",
       "      <td>2019-06-01</td>\n",
       "      <td>0</td>\n",
       "      <td>No</td>\n",
       "    </tr>\n",
       "    <tr>\n",
       "      <th>1</th>\n",
       "      <td>T1188342</td>\n",
       "      <td>172</td>\n",
       "      <td>S1</td>\n",
       "      <td>L1</td>\n",
       "      <td>R1</td>\n",
       "      <td>2019-06-01</td>\n",
       "      <td>0</td>\n",
       "      <td>No</td>\n",
       "    </tr>\n",
       "    <tr>\n",
       "      <th>2</th>\n",
       "      <td>T1188343</td>\n",
       "      <td>173</td>\n",
       "      <td>S4</td>\n",
       "      <td>L2</td>\n",
       "      <td>R1</td>\n",
       "      <td>2019-06-01</td>\n",
       "      <td>0</td>\n",
       "      <td>No</td>\n",
       "    </tr>\n",
       "    <tr>\n",
       "      <th>3</th>\n",
       "      <td>T1188344</td>\n",
       "      <td>174</td>\n",
       "      <td>S1</td>\n",
       "      <td>L1</td>\n",
       "      <td>R4</td>\n",
       "      <td>2019-06-01</td>\n",
       "      <td>0</td>\n",
       "      <td>No</td>\n",
       "    </tr>\n",
       "    <tr>\n",
       "      <th>4</th>\n",
       "      <td>T1188345</td>\n",
       "      <td>170</td>\n",
       "      <td>S1</td>\n",
       "      <td>L1</td>\n",
       "      <td>R2</td>\n",
       "      <td>2019-06-01</td>\n",
       "      <td>0</td>\n",
       "      <td>No</td>\n",
       "    </tr>\n",
       "  </tbody>\n",
       "</table>\n",
       "</div>"
      ],
      "text/plain": [
       "         ID  Store_id Store_Type Location_Type Region_Code        Date  \\\n",
       "0  T1188341       171         S4            L2          R3  2019-06-01   \n",
       "1  T1188342       172         S1            L1          R1  2019-06-01   \n",
       "2  T1188343       173         S4            L2          R1  2019-06-01   \n",
       "3  T1188344       174         S1            L1          R4  2019-06-01   \n",
       "4  T1188345       170         S1            L1          R2  2019-06-01   \n",
       "\n",
       "   Holiday Discount  \n",
       "0        0       No  \n",
       "1        0       No  \n",
       "2        0       No  \n",
       "3        0       No  \n",
       "4        0       No  "
      ]
     },
     "execution_count": 5,
     "metadata": {},
     "output_type": "execute_result"
    }
   ],
   "source": [
    "df_test_final.head() #Viewing the data"
   ]
  },
  {
   "cell_type": "code",
   "execution_count": 6,
   "id": "233a19ec",
   "metadata": {},
   "outputs": [
    {
     "name": "stdout",
     "output_type": "stream",
     "text": [
      "No missing values found in the dataset.\n"
     ]
    }
   ],
   "source": [
    "klib.missingval_plot(df) # returns a figure containing information about missing values"
   ]
  },
  {
   "cell_type": "code",
   "execution_count": 7,
   "id": "93638867",
   "metadata": {},
   "outputs": [
    {
     "name": "stdout",
     "output_type": "stream",
     "text": [
      "No missing values found in the dataset.\n"
     ]
    }
   ],
   "source": [
    "klib.missingval_plot(df_test_final) # returns a figure containing information about missing values"
   ]
  },
  {
   "cell_type": "code",
   "execution_count": 8,
   "id": "6afb34d2",
   "metadata": {},
   "outputs": [
    {
     "name": "stdout",
     "output_type": "stream",
     "text": [
      "<class 'pandas.core.frame.DataFrame'>\n",
      "RangeIndex: 188340 entries, 0 to 188339\n",
      "Data columns (total 10 columns):\n",
      " #   Column         Non-Null Count   Dtype  \n",
      "---  ------         --------------   -----  \n",
      " 0   ID             188340 non-null  object \n",
      " 1   Store_id       188340 non-null  int64  \n",
      " 2   Store_Type     188340 non-null  object \n",
      " 3   Location_Type  188340 non-null  object \n",
      " 4   Region_Code    188340 non-null  object \n",
      " 5   Date           188340 non-null  object \n",
      " 6   Holiday        188340 non-null  int64  \n",
      " 7   Discount       188340 non-null  object \n",
      " 8   #Order         188340 non-null  int64  \n",
      " 9   Sales          188340 non-null  float64\n",
      "dtypes: float64(1), int64(3), object(6)\n",
      "memory usage: 14.4+ MB\n"
     ]
    }
   ],
   "source": [
    "df.info() #info before cleaning the data"
   ]
  },
  {
   "cell_type": "code",
   "execution_count": 9,
   "id": "531bc07e",
   "metadata": {},
   "outputs": [
    {
     "name": "stdout",
     "output_type": "stream",
     "text": [
      "Shape of cleaned data: (188340, 10)Remaining NAs: 0\n",
      "\n",
      "Changes:\n",
      "Dropped rows: 0\n",
      "     of which 0 duplicates. (Rows: [])\n",
      "Dropped columns: 0\n",
      "     of which 0 single valued.     Columns: []\n",
      "Dropped missing values: 0\n",
      "Reduced memory by at least: 10.22 MB (-71.12%)\n",
      "\n",
      "Shape of cleaned data: (22265, 8)Remaining NAs: 0\n",
      "\n",
      "Changes:\n",
      "Dropped rows: 0\n",
      "     of which 0 duplicates. (Rows: [])\n",
      "Dropped columns: 0\n",
      "     of which 0 single valued.     Columns: []\n",
      "Dropped missing values: 0\n",
      "Reduced memory by at least: 1.02 MB (-75.0%)\n",
      "\n"
     ]
    }
   ],
   "source": [
    "df=klib.data_cleaning(df) # performs datacleaning (drop duplicates & empty rows/cols, adjust dtypes,...)\n",
    "df_test_final=klib.data_cleaning(df_test_final) # performs datacleaning (drop duplicates & empty rows/cols, adjust dtypes,...)"
   ]
  },
  {
   "cell_type": "code",
   "execution_count": 10,
   "id": "5d8903c8",
   "metadata": {},
   "outputs": [
    {
     "name": "stdout",
     "output_type": "stream",
     "text": [
      "<class 'pandas.core.frame.DataFrame'>\n",
      "RangeIndex: 188340 entries, 0 to 188339\n",
      "Data columns (total 10 columns):\n",
      " #   Column         Non-Null Count   Dtype   \n",
      "---  ------         --------------   -----   \n",
      " 0   id             188340 non-null  string  \n",
      " 1   store_id       188340 non-null  int16   \n",
      " 2   store_type     188340 non-null  category\n",
      " 3   location_type  188340 non-null  category\n",
      " 4   region_code    188340 non-null  category\n",
      " 5   date           188340 non-null  category\n",
      " 6   holiday        188340 non-null  int8    \n",
      " 7   discount       188340 non-null  category\n",
      " 8   hash_order     188340 non-null  int16   \n",
      " 9   sales          188340 non-null  float32 \n",
      "dtypes: category(5), float32(1), int16(2), int8(1), string(1)\n",
      "memory usage: 4.2 MB\n"
     ]
    }
   ],
   "source": [
    "df.info() #info after cleaning the data"
   ]
  },
  {
   "cell_type": "code",
   "execution_count": 11,
   "id": "6962e1fa",
   "metadata": {},
   "outputs": [],
   "source": [
    "df.drop('hash_order', axis=1, inplace=True)# dropping unwanted column order"
   ]
  },
  {
   "cell_type": "code",
   "execution_count": 12,
   "id": "9f0e6a4f",
   "metadata": {},
   "outputs": [],
   "source": [
    "#df=df.set_index('date') # setting date column as index"
   ]
  },
  {
   "cell_type": "code",
   "execution_count": 13,
   "id": "bb153cca",
   "metadata": {
    "scrolled": false
   },
   "outputs": [
    {
     "data": {
      "text/plain": [
       "count     188340\n",
       "unique         4\n",
       "top           S1\n",
       "freq       88752\n",
       "Name: store_type, dtype: object"
      ]
     },
     "execution_count": 13,
     "metadata": {},
     "output_type": "execute_result"
    }
   ],
   "source": [
    "df['store_type'].describe() #viewing Statistics of categorical data and looking for unique values"
   ]
  },
  {
   "cell_type": "code",
   "execution_count": 14,
   "id": "f96679b1",
   "metadata": {
    "scrolled": true
   },
   "outputs": [
    {
     "data": {
      "text/plain": [
       "count     188340\n",
       "unique         5\n",
       "top           L1\n",
       "freq       85140\n",
       "Name: location_type, dtype: object"
      ]
     },
     "execution_count": 14,
     "metadata": {},
     "output_type": "execute_result"
    }
   ],
   "source": [
    "df['location_type'].describe() #viewing Statistics of categorical data and looking for unique values"
   ]
  },
  {
   "cell_type": "code",
   "execution_count": 15,
   "id": "05d37920",
   "metadata": {
    "scrolled": true
   },
   "outputs": [
    {
     "data": {
      "text/plain": [
       "count     188340\n",
       "unique         4\n",
       "top           R1\n",
       "freq       63984\n",
       "Name: region_code, dtype: object"
      ]
     },
     "execution_count": 15,
     "metadata": {},
     "output_type": "execute_result"
    }
   ],
   "source": [
    "df['region_code'].describe() #viewing Statistics of categorical data and looking for unique values"
   ]
  },
  {
   "cell_type": "code",
   "execution_count": 16,
   "id": "eec98e65",
   "metadata": {
    "scrolled": true
   },
   "outputs": [
    {
     "data": {
      "text/plain": [
       "count     188340\n",
       "unique         2\n",
       "top           No\n",
       "freq      104051\n",
       "Name: discount, dtype: object"
      ]
     },
     "execution_count": 16,
     "metadata": {},
     "output_type": "execute_result"
    }
   ],
   "source": [
    "df['discount'].describe() #viewing Statistics of categorical data and looking for unique values"
   ]
  },
  {
   "cell_type": "code",
   "execution_count": 17,
   "id": "feecaab7",
   "metadata": {},
   "outputs": [
    {
     "data": {
      "application/javascript": [
       "\n",
       "        if (window._pyforest_update_imports_cell) { window._pyforest_update_imports_cell('from sklearn.preprocessing import LabelEncoder\\nimport pandas as pd'); }\n",
       "    "
      ],
      "text/plain": [
       "<IPython.core.display.Javascript object>"
      ]
     },
     "metadata": {},
     "output_type": "display_data"
    },
    {
     "data": {
      "application/javascript": [
       "\n",
       "        if (window._pyforest_update_imports_cell) { window._pyforest_update_imports_cell('from sklearn.preprocessing import LabelEncoder\\nimport pandas as pd'); }\n",
       "    "
      ],
      "text/plain": [
       "<IPython.core.display.Javascript object>"
      ]
     },
     "metadata": {},
     "output_type": "display_data"
    }
   ],
   "source": [
    "le = LabelEncoder() #applying label encoder \n",
    "df['discount'] = le.fit_transform(df.discount) #Applying Label encoding to discount column\n",
    "\n",
    "le = LabelEncoder() #applying label encoder \n",
    "df_test_final['discount'] = le.fit_transform(df_test_final.discount) #Applying Label encoding to discount column"
   ]
  },
  {
   "cell_type": "code",
   "execution_count": 18,
   "id": "da919ea9",
   "metadata": {},
   "outputs": [
    {
     "data": {
      "application/javascript": [
       "\n",
       "        if (window._pyforest_update_imports_cell) { window._pyforest_update_imports_cell('from sklearn.preprocessing import LabelEncoder\\nimport pandas as pd'); }\n",
       "    "
      ],
      "text/plain": [
       "<IPython.core.display.Javascript object>"
      ]
     },
     "metadata": {},
     "output_type": "display_data"
    },
    {
     "data": {
      "application/javascript": [
       "\n",
       "        if (window._pyforest_update_imports_cell) { window._pyforest_update_imports_cell('from sklearn.preprocessing import LabelEncoder\\nimport pandas as pd'); }\n",
       "    "
      ],
      "text/plain": [
       "<IPython.core.display.Javascript object>"
      ]
     },
     "metadata": {},
     "output_type": "display_data"
    }
   ],
   "source": [
    "# Splitting Date column\n",
    "df['date'] = pd.to_datetime(df['date'])\n",
    "df['year'] = df['date'].dt.year\n",
    "df['month'] = df['date'].dt.month\n",
    "df['day'] = df['date'].dt.day\n",
    "\n",
    "df_test_final['date'] = pd.to_datetime(df_test_final['date'])\n",
    "df_test_final['year'] = df_test_final['date'].dt.year\n",
    "df_test_final['month'] = df_test_final['date'].dt.month\n",
    "df_test_final['day'] = df_test_final['date'].dt.day"
   ]
  },
  {
   "cell_type": "code",
   "execution_count": 19,
   "id": "ed68e6ed",
   "metadata": {
    "scrolled": true
   },
   "outputs": [
    {
     "data": {
      "text/html": [
       "<div>\n",
       "<style scoped>\n",
       "    .dataframe tbody tr th:only-of-type {\n",
       "        vertical-align: middle;\n",
       "    }\n",
       "\n",
       "    .dataframe tbody tr th {\n",
       "        vertical-align: top;\n",
       "    }\n",
       "\n",
       "    .dataframe thead th {\n",
       "        text-align: right;\n",
       "    }\n",
       "</style>\n",
       "<table border=\"1\" class=\"dataframe\">\n",
       "  <thead>\n",
       "    <tr style=\"text-align: right;\">\n",
       "      <th></th>\n",
       "      <th>store_id</th>\n",
       "      <th>holiday</th>\n",
       "      <th>discount</th>\n",
       "      <th>sales</th>\n",
       "      <th>year</th>\n",
       "      <th>month</th>\n",
       "      <th>day</th>\n",
       "    </tr>\n",
       "  </thead>\n",
       "  <tbody>\n",
       "    <tr>\n",
       "      <th>count</th>\n",
       "      <td>188340.000000</td>\n",
       "      <td>188340.000000</td>\n",
       "      <td>188340.000000</td>\n",
       "      <td>188340.000000</td>\n",
       "      <td>188340.000000</td>\n",
       "      <td>188340.000000</td>\n",
       "      <td>188340.000000</td>\n",
       "    </tr>\n",
       "    <tr>\n",
       "      <th>mean</th>\n",
       "      <td>183.000000</td>\n",
       "      <td>0.131783</td>\n",
       "      <td>0.447536</td>\n",
       "      <td>42784.382812</td>\n",
       "      <td>2018.292636</td>\n",
       "      <td>5.498062</td>\n",
       "      <td>15.691860</td>\n",
       "    </tr>\n",
       "    <tr>\n",
       "      <th>std</th>\n",
       "      <td>105.366308</td>\n",
       "      <td>0.338256</td>\n",
       "      <td>0.497241</td>\n",
       "      <td>18456.414062</td>\n",
       "      <td>0.454974</td>\n",
       "      <td>3.399450</td>\n",
       "      <td>8.783156</td>\n",
       "    </tr>\n",
       "    <tr>\n",
       "      <th>min</th>\n",
       "      <td>1.000000</td>\n",
       "      <td>0.000000</td>\n",
       "      <td>0.000000</td>\n",
       "      <td>0.000000</td>\n",
       "      <td>2018.000000</td>\n",
       "      <td>1.000000</td>\n",
       "      <td>1.000000</td>\n",
       "    </tr>\n",
       "    <tr>\n",
       "      <th>25%</th>\n",
       "      <td>92.000000</td>\n",
       "      <td>0.000000</td>\n",
       "      <td>0.000000</td>\n",
       "      <td>30426.000000</td>\n",
       "      <td>2018.000000</td>\n",
       "      <td>3.000000</td>\n",
       "      <td>8.000000</td>\n",
       "    </tr>\n",
       "    <tr>\n",
       "      <th>50%</th>\n",
       "      <td>183.000000</td>\n",
       "      <td>0.000000</td>\n",
       "      <td>0.000000</td>\n",
       "      <td>39678.000000</td>\n",
       "      <td>2018.000000</td>\n",
       "      <td>5.000000</td>\n",
       "      <td>16.000000</td>\n",
       "    </tr>\n",
       "    <tr>\n",
       "      <th>75%</th>\n",
       "      <td>274.000000</td>\n",
       "      <td>0.000000</td>\n",
       "      <td>1.000000</td>\n",
       "      <td>51909.000000</td>\n",
       "      <td>2019.000000</td>\n",
       "      <td>8.000000</td>\n",
       "      <td>23.000000</td>\n",
       "    </tr>\n",
       "    <tr>\n",
       "      <th>max</th>\n",
       "      <td>365.000000</td>\n",
       "      <td>1.000000</td>\n",
       "      <td>1.000000</td>\n",
       "      <td>247215.000000</td>\n",
       "      <td>2019.000000</td>\n",
       "      <td>12.000000</td>\n",
       "      <td>31.000000</td>\n",
       "    </tr>\n",
       "  </tbody>\n",
       "</table>\n",
       "</div>"
      ],
      "text/plain": [
       "            store_id        holiday       discount          sales  \\\n",
       "count  188340.000000  188340.000000  188340.000000  188340.000000   \n",
       "mean      183.000000       0.131783       0.447536   42784.382812   \n",
       "std       105.366308       0.338256       0.497241   18456.414062   \n",
       "min         1.000000       0.000000       0.000000       0.000000   \n",
       "25%        92.000000       0.000000       0.000000   30426.000000   \n",
       "50%       183.000000       0.000000       0.000000   39678.000000   \n",
       "75%       274.000000       0.000000       1.000000   51909.000000   \n",
       "max       365.000000       1.000000       1.000000  247215.000000   \n",
       "\n",
       "                year          month            day  \n",
       "count  188340.000000  188340.000000  188340.000000  \n",
       "mean     2018.292636       5.498062      15.691860  \n",
       "std         0.454974       3.399450       8.783156  \n",
       "min      2018.000000       1.000000       1.000000  \n",
       "25%      2018.000000       3.000000       8.000000  \n",
       "50%      2018.000000       5.000000      16.000000  \n",
       "75%      2019.000000       8.000000      23.000000  \n",
       "max      2019.000000      12.000000      31.000000  "
      ]
     },
     "execution_count": 19,
     "metadata": {},
     "output_type": "execute_result"
    }
   ],
   "source": [
    "df.describe()  #viewing Statistics of numerical data and looking for negative values, outlaiers"
   ]
  },
  {
   "cell_type": "code",
   "execution_count": 20,
   "id": "fe8cfb81",
   "metadata": {},
   "outputs": [
    {
     "data": {
      "text/html": [
       "<div>\n",
       "<style scoped>\n",
       "    .dataframe tbody tr th:only-of-type {\n",
       "        vertical-align: middle;\n",
       "    }\n",
       "\n",
       "    .dataframe tbody tr th {\n",
       "        vertical-align: top;\n",
       "    }\n",
       "\n",
       "    .dataframe thead th {\n",
       "        text-align: right;\n",
       "    }\n",
       "</style>\n",
       "<table border=\"1\" class=\"dataframe\">\n",
       "  <thead>\n",
       "    <tr style=\"text-align: right;\">\n",
       "      <th></th>\n",
       "      <th>store_id</th>\n",
       "      <th>holiday</th>\n",
       "      <th>discount</th>\n",
       "      <th>sales</th>\n",
       "      <th>year</th>\n",
       "      <th>month</th>\n",
       "      <th>day</th>\n",
       "    </tr>\n",
       "  </thead>\n",
       "  <tbody>\n",
       "    <tr>\n",
       "      <th>store_id</th>\n",
       "      <td>1.000000e+00</td>\n",
       "      <td>5.380970e-16</td>\n",
       "      <td>-0.000693</td>\n",
       "      <td>0.004377</td>\n",
       "      <td>4.924216e-15</td>\n",
       "      <td>-2.816837e-16</td>\n",
       "      <td>-4.550589e-17</td>\n",
       "    </tr>\n",
       "    <tr>\n",
       "      <th>holiday</th>\n",
       "      <td>5.380970e-16</td>\n",
       "      <td>1.000000e+00</td>\n",
       "      <td>0.019545</td>\n",
       "      <td>-0.154779</td>\n",
       "      <td>1.386181e-02</td>\n",
       "      <td>1.370518e-02</td>\n",
       "      <td>1.366827e-02</td>\n",
       "    </tr>\n",
       "    <tr>\n",
       "      <th>discount</th>\n",
       "      <td>-6.928774e-04</td>\n",
       "      <td>1.954527e-02</td>\n",
       "      <td>1.000000</td>\n",
       "      <td>0.323906</td>\n",
       "      <td>-3.006382e-02</td>\n",
       "      <td>1.369165e-02</td>\n",
       "      <td>-7.813611e-02</td>\n",
       "    </tr>\n",
       "    <tr>\n",
       "      <th>sales</th>\n",
       "      <td>4.376631e-03</td>\n",
       "      <td>-1.547788e-01</td>\n",
       "      <td>0.323906</td>\n",
       "      <td>1.000000</td>\n",
       "      <td>1.828431e-02</td>\n",
       "      <td>-1.809195e-02</td>\n",
       "      <td>-3.896935e-02</td>\n",
       "    </tr>\n",
       "    <tr>\n",
       "      <th>year</th>\n",
       "      <td>4.924216e-15</td>\n",
       "      <td>1.386181e-02</td>\n",
       "      <td>-0.030064</td>\n",
       "      <td>0.018284</td>\n",
       "      <td>1.000000e+00</td>\n",
       "      <td>-4.701419e-01</td>\n",
       "      <td>-5.078096e-03</td>\n",
       "    </tr>\n",
       "    <tr>\n",
       "      <th>month</th>\n",
       "      <td>-2.816837e-16</td>\n",
       "      <td>1.370518e-02</td>\n",
       "      <td>0.013692</td>\n",
       "      <td>-0.018092</td>\n",
       "      <td>-4.701419e-01</td>\n",
       "      <td>1.000000e+00</td>\n",
       "      <td>1.273428e-02</td>\n",
       "    </tr>\n",
       "    <tr>\n",
       "      <th>day</th>\n",
       "      <td>-4.550589e-17</td>\n",
       "      <td>1.366827e-02</td>\n",
       "      <td>-0.078136</td>\n",
       "      <td>-0.038969</td>\n",
       "      <td>-5.078096e-03</td>\n",
       "      <td>1.273428e-02</td>\n",
       "      <td>1.000000e+00</td>\n",
       "    </tr>\n",
       "  </tbody>\n",
       "</table>\n",
       "</div>"
      ],
      "text/plain": [
       "              store_id       holiday  discount     sales          year  \\\n",
       "store_id  1.000000e+00  5.380970e-16 -0.000693  0.004377  4.924216e-15   \n",
       "holiday   5.380970e-16  1.000000e+00  0.019545 -0.154779  1.386181e-02   \n",
       "discount -6.928774e-04  1.954527e-02  1.000000  0.323906 -3.006382e-02   \n",
       "sales     4.376631e-03 -1.547788e-01  0.323906  1.000000  1.828431e-02   \n",
       "year      4.924216e-15  1.386181e-02 -0.030064  0.018284  1.000000e+00   \n",
       "month    -2.816837e-16  1.370518e-02  0.013692 -0.018092 -4.701419e-01   \n",
       "day      -4.550589e-17  1.366827e-02 -0.078136 -0.038969 -5.078096e-03   \n",
       "\n",
       "                 month           day  \n",
       "store_id -2.816837e-16 -4.550589e-17  \n",
       "holiday   1.370518e-02  1.366827e-02  \n",
       "discount  1.369165e-02 -7.813611e-02  \n",
       "sales    -1.809195e-02 -3.896935e-02  \n",
       "year     -4.701419e-01 -5.078096e-03  \n",
       "month     1.000000e+00  1.273428e-02  \n",
       "day       1.273428e-02  1.000000e+00  "
      ]
     },
     "execution_count": 20,
     "metadata": {},
     "output_type": "execute_result"
    }
   ],
   "source": [
    "df.corr()"
   ]
  },
  {
   "cell_type": "code",
   "execution_count": 21,
   "id": "f330e479",
   "metadata": {},
   "outputs": [
    {
     "data": {
      "text/html": [
       "<div>\n",
       "<style scoped>\n",
       "    .dataframe tbody tr th:only-of-type {\n",
       "        vertical-align: middle;\n",
       "    }\n",
       "\n",
       "    .dataframe tbody tr th {\n",
       "        vertical-align: top;\n",
       "    }\n",
       "\n",
       "    .dataframe thead th {\n",
       "        text-align: right;\n",
       "    }\n",
       "</style>\n",
       "<table border=\"1\" class=\"dataframe\">\n",
       "  <thead>\n",
       "    <tr style=\"text-align: right;\">\n",
       "      <th></th>\n",
       "      <th>id</th>\n",
       "      <th>store_id</th>\n",
       "      <th>store_type</th>\n",
       "      <th>location_type</th>\n",
       "      <th>region_code</th>\n",
       "      <th>date</th>\n",
       "      <th>holiday</th>\n",
       "      <th>discount</th>\n",
       "      <th>sales</th>\n",
       "      <th>year</th>\n",
       "      <th>month</th>\n",
       "      <th>day</th>\n",
       "    </tr>\n",
       "  </thead>\n",
       "  <tbody>\n",
       "    <tr>\n",
       "      <th>0</th>\n",
       "      <td>T1000001</td>\n",
       "      <td>1</td>\n",
       "      <td>S1</td>\n",
       "      <td>L3</td>\n",
       "      <td>R1</td>\n",
       "      <td>2018-01-01</td>\n",
       "      <td>1</td>\n",
       "      <td>1</td>\n",
       "      <td>7011.839844</td>\n",
       "      <td>2018</td>\n",
       "      <td>1</td>\n",
       "      <td>1</td>\n",
       "    </tr>\n",
       "    <tr>\n",
       "      <th>1</th>\n",
       "      <td>T1000002</td>\n",
       "      <td>253</td>\n",
       "      <td>S4</td>\n",
       "      <td>L2</td>\n",
       "      <td>R1</td>\n",
       "      <td>2018-01-01</td>\n",
       "      <td>1</td>\n",
       "      <td>1</td>\n",
       "      <td>51789.121094</td>\n",
       "      <td>2018</td>\n",
       "      <td>1</td>\n",
       "      <td>1</td>\n",
       "    </tr>\n",
       "    <tr>\n",
       "      <th>2</th>\n",
       "      <td>T1000003</td>\n",
       "      <td>252</td>\n",
       "      <td>S3</td>\n",
       "      <td>L2</td>\n",
       "      <td>R1</td>\n",
       "      <td>2018-01-01</td>\n",
       "      <td>1</td>\n",
       "      <td>1</td>\n",
       "      <td>36868.199219</td>\n",
       "      <td>2018</td>\n",
       "      <td>1</td>\n",
       "      <td>1</td>\n",
       "    </tr>\n",
       "    <tr>\n",
       "      <th>3</th>\n",
       "      <td>T1000004</td>\n",
       "      <td>251</td>\n",
       "      <td>S2</td>\n",
       "      <td>L3</td>\n",
       "      <td>R1</td>\n",
       "      <td>2018-01-01</td>\n",
       "      <td>1</td>\n",
       "      <td>1</td>\n",
       "      <td>19715.160156</td>\n",
       "      <td>2018</td>\n",
       "      <td>1</td>\n",
       "      <td>1</td>\n",
       "    </tr>\n",
       "    <tr>\n",
       "      <th>4</th>\n",
       "      <td>T1000005</td>\n",
       "      <td>250</td>\n",
       "      <td>S2</td>\n",
       "      <td>L3</td>\n",
       "      <td>R4</td>\n",
       "      <td>2018-01-01</td>\n",
       "      <td>1</td>\n",
       "      <td>1</td>\n",
       "      <td>45614.519531</td>\n",
       "      <td>2018</td>\n",
       "      <td>1</td>\n",
       "      <td>1</td>\n",
       "    </tr>\n",
       "  </tbody>\n",
       "</table>\n",
       "</div>"
      ],
      "text/plain": [
       "         id  store_id store_type location_type region_code       date  \\\n",
       "0  T1000001         1         S1            L3          R1 2018-01-01   \n",
       "1  T1000002       253         S4            L2          R1 2018-01-01   \n",
       "2  T1000003       252         S3            L2          R1 2018-01-01   \n",
       "3  T1000004       251         S2            L3          R1 2018-01-01   \n",
       "4  T1000005       250         S2            L3          R4 2018-01-01   \n",
       "\n",
       "   holiday  discount         sales  year  month  day  \n",
       "0        1         1   7011.839844  2018      1    1  \n",
       "1        1         1  51789.121094  2018      1    1  \n",
       "2        1         1  36868.199219  2018      1    1  \n",
       "3        1         1  19715.160156  2018      1    1  \n",
       "4        1         1  45614.519531  2018      1    1  "
      ]
     },
     "execution_count": 21,
     "metadata": {},
     "output_type": "execute_result"
    }
   ],
   "source": [
    "# here store type and st\n",
    "df.head() #here we see that it is a multi variate time series forecasting problem. "
   ]
  },
  {
   "cell_type": "code",
   "execution_count": 22,
   "id": "2922e289",
   "metadata": {
    "scrolled": true
   },
   "outputs": [
    {
     "data": {
      "text/html": [
       "<div>\n",
       "<style scoped>\n",
       "    .dataframe tbody tr th:only-of-type {\n",
       "        vertical-align: middle;\n",
       "    }\n",
       "\n",
       "    .dataframe tbody tr th {\n",
       "        vertical-align: top;\n",
       "    }\n",
       "\n",
       "    .dataframe thead th {\n",
       "        text-align: right;\n",
       "    }\n",
       "</style>\n",
       "<table border=\"1\" class=\"dataframe\">\n",
       "  <thead>\n",
       "    <tr style=\"text-align: right;\">\n",
       "      <th></th>\n",
       "      <th>id</th>\n",
       "      <th>store_id</th>\n",
       "      <th>store_type</th>\n",
       "      <th>location_type</th>\n",
       "      <th>region_code</th>\n",
       "      <th>date</th>\n",
       "      <th>holiday</th>\n",
       "      <th>discount</th>\n",
       "      <th>year</th>\n",
       "      <th>month</th>\n",
       "      <th>day</th>\n",
       "    </tr>\n",
       "  </thead>\n",
       "  <tbody>\n",
       "    <tr>\n",
       "      <th>0</th>\n",
       "      <td>T1188341</td>\n",
       "      <td>171</td>\n",
       "      <td>S4</td>\n",
       "      <td>L2</td>\n",
       "      <td>R3</td>\n",
       "      <td>2019-06-01</td>\n",
       "      <td>0</td>\n",
       "      <td>0</td>\n",
       "      <td>2019</td>\n",
       "      <td>6</td>\n",
       "      <td>1</td>\n",
       "    </tr>\n",
       "    <tr>\n",
       "      <th>1</th>\n",
       "      <td>T1188342</td>\n",
       "      <td>172</td>\n",
       "      <td>S1</td>\n",
       "      <td>L1</td>\n",
       "      <td>R1</td>\n",
       "      <td>2019-06-01</td>\n",
       "      <td>0</td>\n",
       "      <td>0</td>\n",
       "      <td>2019</td>\n",
       "      <td>6</td>\n",
       "      <td>1</td>\n",
       "    </tr>\n",
       "    <tr>\n",
       "      <th>2</th>\n",
       "      <td>T1188343</td>\n",
       "      <td>173</td>\n",
       "      <td>S4</td>\n",
       "      <td>L2</td>\n",
       "      <td>R1</td>\n",
       "      <td>2019-06-01</td>\n",
       "      <td>0</td>\n",
       "      <td>0</td>\n",
       "      <td>2019</td>\n",
       "      <td>6</td>\n",
       "      <td>1</td>\n",
       "    </tr>\n",
       "    <tr>\n",
       "      <th>3</th>\n",
       "      <td>T1188344</td>\n",
       "      <td>174</td>\n",
       "      <td>S1</td>\n",
       "      <td>L1</td>\n",
       "      <td>R4</td>\n",
       "      <td>2019-06-01</td>\n",
       "      <td>0</td>\n",
       "      <td>0</td>\n",
       "      <td>2019</td>\n",
       "      <td>6</td>\n",
       "      <td>1</td>\n",
       "    </tr>\n",
       "    <tr>\n",
       "      <th>4</th>\n",
       "      <td>T1188345</td>\n",
       "      <td>170</td>\n",
       "      <td>S1</td>\n",
       "      <td>L1</td>\n",
       "      <td>R2</td>\n",
       "      <td>2019-06-01</td>\n",
       "      <td>0</td>\n",
       "      <td>0</td>\n",
       "      <td>2019</td>\n",
       "      <td>6</td>\n",
       "      <td>1</td>\n",
       "    </tr>\n",
       "  </tbody>\n",
       "</table>\n",
       "</div>"
      ],
      "text/plain": [
       "         id  store_id store_type location_type region_code       date  \\\n",
       "0  T1188341       171         S4            L2          R3 2019-06-01   \n",
       "1  T1188342       172         S1            L1          R1 2019-06-01   \n",
       "2  T1188343       173         S4            L2          R1 2019-06-01   \n",
       "3  T1188344       174         S1            L1          R4 2019-06-01   \n",
       "4  T1188345       170         S1            L1          R2 2019-06-01   \n",
       "\n",
       "   holiday  discount  year  month  day  \n",
       "0        0         0  2019      6    1  \n",
       "1        0         0  2019      6    1  \n",
       "2        0         0  2019      6    1  \n",
       "3        0         0  2019      6    1  \n",
       "4        0         0  2019      6    1  "
      ]
     },
     "execution_count": 22,
     "metadata": {},
     "output_type": "execute_result"
    }
   ],
   "source": [
    "# here store type and st\n",
    "df_test_final.head() #here we see that it is a multi variate time series forecasting problem. "
   ]
  },
  {
   "cell_type": "code",
   "execution_count": 23,
   "id": "ea3a1826",
   "metadata": {},
   "outputs": [
    {
     "data": {
      "text/plain": [
       "<AxesSubplot:>"
      ]
     },
     "execution_count": 23,
     "metadata": {},
     "output_type": "execute_result"
    },
    {
     "data": {
      "image/png": "[encoded data removed]",
      "text/plain": [
       "<Figure size 1440x720 with 1 Axes>"
      ]
     },
     "metadata": {
      "needs_background": "light"
     },
     "output_type": "display_data"
    }
   ],
   "source": [
    "df.plot( y='sales', figsize=(20,10))"
   ]
  },
  {
   "cell_type": "code",
   "execution_count": 24,
   "id": "dd635beb",
   "metadata": {},
   "outputs": [],
   "source": [
    "#Setting the value for X and Y\n",
    "x = df[['holiday', 'discount', 'year','month','day','store_type','location_type','region_code']]\n",
    "y = df['sales']"
   ]
  },
  {
   "cell_type": "code",
   "execution_count": 25,
   "id": "4a8452dc",
   "metadata": {},
   "outputs": [
    {
     "data": {
      "application/javascript": [
       "\n",
       "        if (window._pyforest_update_imports_cell) { window._pyforest_update_imports_cell('from sklearn.preprocessing import LabelEncoder\\nimport pandas as pd'); }\n",
       "    "
      ],
      "text/plain": [
       "<IPython.core.display.Javascript object>"
      ]
     },
     "metadata": {},
     "output_type": "display_data"
    },
    {
     "data": {
      "application/javascript": [
       "\n",
       "        if (window._pyforest_update_imports_cell) { window._pyforest_update_imports_cell('from sklearn.preprocessing import LabelEncoder\\nimport pandas as pd'); }\n",
       "    "
      ],
      "text/plain": [
       "<IPython.core.display.Javascript object>"
      ]
     },
     "metadata": {},
     "output_type": "display_data"
    },
    {
     "data": {
      "application/javascript": [
       "\n",
       "        if (window._pyforest_update_imports_cell) { window._pyforest_update_imports_cell('from sklearn.preprocessing import LabelEncoder\\nimport pandas as pd'); }\n",
       "    "
      ],
      "text/plain": [
       "<IPython.core.display.Javascript object>"
      ]
     },
     "metadata": {},
     "output_type": "display_data"
    }
   ],
   "source": [
    "#Applying One hot Encoding on both Test and train Dataset\n",
    "\n",
    "df = pd.get_dummies(df,columns=[\"store_type\",\"location_type\",\"region_code\"],drop_first=True)\n",
    "x = pd.get_dummies(x,columns=[\"store_type\",\"location_type\",\"region_code\"],drop_first=True)\n",
    "df_test_final = pd.get_dummies(df_test_final,columns=[\"store_type\",\"location_type\",\"region_code\"],drop_first=True)"
   ]
  },
  {
   "cell_type": "code",
   "execution_count": 26,
   "id": "950b7cd9",
   "metadata": {},
   "outputs": [
    {
     "data": {
      "text/html": [
       "<div>\n",
       "<style scoped>\n",
       "    .dataframe tbody tr th:only-of-type {\n",
       "        vertical-align: middle;\n",
       "    }\n",
       "\n",
       "    .dataframe tbody tr th {\n",
       "        vertical-align: top;\n",
       "    }\n",
       "\n",
       "    .dataframe thead th {\n",
       "        text-align: right;\n",
       "    }\n",
       "</style>\n",
       "<table border=\"1\" class=\"dataframe\">\n",
       "  <thead>\n",
       "    <tr style=\"text-align: right;\">\n",
       "      <th></th>\n",
       "      <th>id</th>\n",
       "      <th>store_id</th>\n",
       "      <th>date</th>\n",
       "      <th>holiday</th>\n",
       "      <th>discount</th>\n",
       "      <th>sales</th>\n",
       "      <th>year</th>\n",
       "      <th>month</th>\n",
       "      <th>day</th>\n",
       "      <th>store_type_S2</th>\n",
       "      <th>store_type_S3</th>\n",
       "      <th>store_type_S4</th>\n",
       "      <th>location_type_L2</th>\n",
       "      <th>location_type_L3</th>\n",
       "      <th>location_type_L4</th>\n",
       "      <th>location_type_L5</th>\n",
       "      <th>region_code_R2</th>\n",
       "      <th>region_code_R3</th>\n",
       "      <th>region_code_R4</th>\n",
       "    </tr>\n",
       "  </thead>\n",
       "  <tbody>\n",
       "    <tr>\n",
       "      <th>0</th>\n",
       "      <td>T1000001</td>\n",
       "      <td>1</td>\n",
       "      <td>2018-01-01</td>\n",
       "      <td>1</td>\n",
       "      <td>1</td>\n",
       "      <td>7011.839844</td>\n",
       "      <td>2018</td>\n",
       "      <td>1</td>\n",
       "      <td>1</td>\n",
       "      <td>0</td>\n",
       "      <td>0</td>\n",
       "      <td>0</td>\n",
       "      <td>0</td>\n",
       "      <td>1</td>\n",
       "      <td>0</td>\n",
       "      <td>0</td>\n",
       "      <td>0</td>\n",
       "      <td>0</td>\n",
       "      <td>0</td>\n",
       "    </tr>\n",
       "    <tr>\n",
       "      <th>1</th>\n",
       "      <td>T1000002</td>\n",
       "      <td>253</td>\n",
       "      <td>2018-01-01</td>\n",
       "      <td>1</td>\n",
       "      <td>1</td>\n",
       "      <td>51789.121094</td>\n",
       "      <td>2018</td>\n",
       "      <td>1</td>\n",
       "      <td>1</td>\n",
       "      <td>0</td>\n",
       "      <td>0</td>\n",
       "      <td>1</td>\n",
       "      <td>1</td>\n",
       "      <td>0</td>\n",
       "      <td>0</td>\n",
       "      <td>0</td>\n",
       "      <td>0</td>\n",
       "      <td>0</td>\n",
       "      <td>0</td>\n",
       "    </tr>\n",
       "    <tr>\n",
       "      <th>2</th>\n",
       "      <td>T1000003</td>\n",
       "      <td>252</td>\n",
       "      <td>2018-01-01</td>\n",
       "      <td>1</td>\n",
       "      <td>1</td>\n",
       "      <td>36868.199219</td>\n",
       "      <td>2018</td>\n",
       "      <td>1</td>\n",
       "      <td>1</td>\n",
       "      <td>0</td>\n",
       "      <td>1</td>\n",
       "      <td>0</td>\n",
       "      <td>1</td>\n",
       "      <td>0</td>\n",
       "      <td>0</td>\n",
       "      <td>0</td>\n",
       "      <td>0</td>\n",
       "      <td>0</td>\n",
       "      <td>0</td>\n",
       "    </tr>\n",
       "    <tr>\n",
       "      <th>3</th>\n",
       "      <td>T1000004</td>\n",
       "      <td>251</td>\n",
       "      <td>2018-01-01</td>\n",
       "      <td>1</td>\n",
       "      <td>1</td>\n",
       "      <td>19715.160156</td>\n",
       "      <td>2018</td>\n",
       "      <td>1</td>\n",
       "      <td>1</td>\n",
       "      <td>1</td>\n",
       "      <td>0</td>\n",
       "      <td>0</td>\n",
       "      <td>0</td>\n",
       "      <td>1</td>\n",
       "      <td>0</td>\n",
       "      <td>0</td>\n",
       "      <td>0</td>\n",
       "      <td>0</td>\n",
       "      <td>0</td>\n",
       "    </tr>\n",
       "    <tr>\n",
       "      <th>4</th>\n",
       "      <td>T1000005</td>\n",
       "      <td>250</td>\n",
       "      <td>2018-01-01</td>\n",
       "      <td>1</td>\n",
       "      <td>1</td>\n",
       "      <td>45614.519531</td>\n",
       "      <td>2018</td>\n",
       "      <td>1</td>\n",
       "      <td>1</td>\n",
       "      <td>1</td>\n",
       "      <td>0</td>\n",
       "      <td>0</td>\n",
       "      <td>0</td>\n",
       "      <td>1</td>\n",
       "      <td>0</td>\n",
       "      <td>0</td>\n",
       "      <td>0</td>\n",
       "      <td>0</td>\n",
       "      <td>1</td>\n",
       "    </tr>\n",
       "  </tbody>\n",
       "</table>\n",
       "</div>"
      ],
      "text/plain": [
       "         id  store_id       date  holiday  discount         sales  year  \\\n",
       "0  T1000001         1 2018-01-01        1         1   7011.839844  2018   \n",
       "1  T1000002       253 2018-01-01        1         1  51789.121094  2018   \n",
       "2  T1000003       252 2018-01-01        1         1  36868.199219  2018   \n",
       "3  T1000004       251 2018-01-01        1         1  19715.160156  2018   \n",
       "4  T1000005       250 2018-01-01        1         1  45614.519531  2018   \n",
       "\n",
       "   month  day  store_type_S2  store_type_S3  store_type_S4  location_type_L2  \\\n",
       "0      1    1              0              0              0                 0   \n",
       "1      1    1              0              0              1                 1   \n",
       "2      1    1              0              1              0                 1   \n",
       "3      1    1              1              0              0                 0   \n",
       "4      1    1              1              0              0                 0   \n",
       "\n",
       "   location_type_L3  location_type_L4  location_type_L5  region_code_R2  \\\n",
       "0                 1                 0                 0               0   \n",
       "1                 0                 0                 0               0   \n",
       "2                 0                 0                 0               0   \n",
       "3                 1                 0                 0               0   \n",
       "4                 1                 0                 0               0   \n",
       "\n",
       "   region_code_R3  region_code_R4  \n",
       "0               0               0  \n",
       "1               0               0  \n",
       "2               0               0  \n",
       "3               0               0  \n",
       "4               0               1  "
      ]
     },
     "execution_count": 26,
     "metadata": {},
     "output_type": "execute_result"
    }
   ],
   "source": [
    "df.head()"
   ]
  },
  {
   "cell_type": "code",
   "execution_count": 27,
   "id": "5ffbeb9a",
   "metadata": {},
   "outputs": [
    {
     "data": {
      "text/html": [
       "<div>\n",
       "<style scoped>\n",
       "    .dataframe tbody tr th:only-of-type {\n",
       "        vertical-align: middle;\n",
       "    }\n",
       "\n",
       "    .dataframe tbody tr th {\n",
       "        vertical-align: top;\n",
       "    }\n",
       "\n",
       "    .dataframe thead th {\n",
       "        text-align: right;\n",
       "    }\n",
       "</style>\n",
       "<table border=\"1\" class=\"dataframe\">\n",
       "  <thead>\n",
       "    <tr style=\"text-align: right;\">\n",
       "      <th></th>\n",
       "      <th>id</th>\n",
       "      <th>store_id</th>\n",
       "      <th>date</th>\n",
       "      <th>holiday</th>\n",
       "      <th>discount</th>\n",
       "      <th>year</th>\n",
       "      <th>month</th>\n",
       "      <th>day</th>\n",
       "      <th>store_type_S2</th>\n",
       "      <th>store_type_S3</th>\n",
       "      <th>store_type_S4</th>\n",
       "      <th>location_type_L2</th>\n",
       "      <th>location_type_L3</th>\n",
       "      <th>location_type_L4</th>\n",
       "      <th>location_type_L5</th>\n",
       "      <th>region_code_R2</th>\n",
       "      <th>region_code_R3</th>\n",
       "      <th>region_code_R4</th>\n",
       "    </tr>\n",
       "  </thead>\n",
       "  <tbody>\n",
       "    <tr>\n",
       "      <th>0</th>\n",
       "      <td>T1188341</td>\n",
       "      <td>171</td>\n",
       "      <td>2019-06-01</td>\n",
       "      <td>0</td>\n",
       "      <td>0</td>\n",
       "      <td>2019</td>\n",
       "      <td>6</td>\n",
       "      <td>1</td>\n",
       "      <td>0</td>\n",
       "      <td>0</td>\n",
       "      <td>1</td>\n",
       "      <td>1</td>\n",
       "      <td>0</td>\n",
       "      <td>0</td>\n",
       "      <td>0</td>\n",
       "      <td>0</td>\n",
       "      <td>1</td>\n",
       "      <td>0</td>\n",
       "    </tr>\n",
       "    <tr>\n",
       "      <th>1</th>\n",
       "      <td>T1188342</td>\n",
       "      <td>172</td>\n",
       "      <td>2019-06-01</td>\n",
       "      <td>0</td>\n",
       "      <td>0</td>\n",
       "      <td>2019</td>\n",
       "      <td>6</td>\n",
       "      <td>1</td>\n",
       "      <td>0</td>\n",
       "      <td>0</td>\n",
       "      <td>0</td>\n",
       "      <td>0</td>\n",
       "      <td>0</td>\n",
       "      <td>0</td>\n",
       "      <td>0</td>\n",
       "      <td>0</td>\n",
       "      <td>0</td>\n",
       "      <td>0</td>\n",
       "    </tr>\n",
       "    <tr>\n",
       "      <th>2</th>\n",
       "      <td>T1188343</td>\n",
       "      <td>173</td>\n",
       "      <td>2019-06-01</td>\n",
       "      <td>0</td>\n",
       "      <td>0</td>\n",
       "      <td>2019</td>\n",
       "      <td>6</td>\n",
       "      <td>1</td>\n",
       "      <td>0</td>\n",
       "      <td>0</td>\n",
       "      <td>1</td>\n",
       "      <td>1</td>\n",
       "      <td>0</td>\n",
       "      <td>0</td>\n",
       "      <td>0</td>\n",
       "      <td>0</td>\n",
       "      <td>0</td>\n",
       "      <td>0</td>\n",
       "    </tr>\n",
       "    <tr>\n",
       "      <th>3</th>\n",
       "      <td>T1188344</td>\n",
       "      <td>174</td>\n",
       "      <td>2019-06-01</td>\n",
       "      <td>0</td>\n",
       "      <td>0</td>\n",
       "      <td>2019</td>\n",
       "      <td>6</td>\n",
       "      <td>1</td>\n",
       "      <td>0</td>\n",
       "      <td>0</td>\n",
       "      <td>0</td>\n",
       "      <td>0</td>\n",
       "      <td>0</td>\n",
       "      <td>0</td>\n",
       "      <td>0</td>\n",
       "      <td>0</td>\n",
       "      <td>0</td>\n",
       "      <td>1</td>\n",
       "    </tr>\n",
       "    <tr>\n",
       "      <th>4</th>\n",
       "      <td>T1188345</td>\n",
       "      <td>170</td>\n",
       "      <td>2019-06-01</td>\n",
       "      <td>0</td>\n",
       "      <td>0</td>\n",
       "      <td>2019</td>\n",
       "      <td>6</td>\n",
       "      <td>1</td>\n",
       "      <td>0</td>\n",
       "      <td>0</td>\n",
       "      <td>0</td>\n",
       "      <td>0</td>\n",
       "      <td>0</td>\n",
       "      <td>0</td>\n",
       "      <td>0</td>\n",
       "      <td>1</td>\n",
       "      <td>0</td>\n",
       "      <td>0</td>\n",
       "    </tr>\n",
       "  </tbody>\n",
       "</table>\n",
       "</div>"
      ],
      "text/plain": [
       "         id  store_id       date  holiday  discount  year  month  day  \\\n",
       "0  T1188341       171 2019-06-01        0         0  2019      6    1   \n",
       "1  T1188342       172 2019-06-01        0         0  2019      6    1   \n",
       "2  T1188343       173 2019-06-01        0         0  2019      6    1   \n",
       "3  T1188344       174 2019-06-01        0         0  2019      6    1   \n",
       "4  T1188345       170 2019-06-01        0         0  2019      6    1   \n",
       "\n",
       "   store_type_S2  store_type_S3  store_type_S4  location_type_L2  \\\n",
       "0              0              0              1                 1   \n",
       "1              0              0              0                 0   \n",
       "2              0              0              1                 1   \n",
       "3              0              0              0                 0   \n",
       "4              0              0              0                 0   \n",
       "\n",
       "   location_type_L3  location_type_L4  location_type_L5  region_code_R2  \\\n",
       "0                 0                 0                 0               0   \n",
       "1                 0                 0                 0               0   \n",
       "2                 0                 0                 0               0   \n",
       "3                 0                 0                 0               0   \n",
       "4                 0                 0                 0               1   \n",
       "\n",
       "   region_code_R3  region_code_R4  \n",
       "0               1               0  \n",
       "1               0               0  \n",
       "2               0               0  \n",
       "3               0               1  \n",
       "4               0               0  "
      ]
     },
     "execution_count": 27,
     "metadata": {},
     "output_type": "execute_result"
    }
   ],
   "source": [
    "df_test_final.head()"
   ]
  },
  {
   "cell_type": "code",
   "execution_count": 28,
   "id": "4b23f07f",
   "metadata": {
    "scrolled": true
   },
   "outputs": [
    {
     "data": {
      "text/html": [
       "<div>\n",
       "<style scoped>\n",
       "    .dataframe tbody tr th:only-of-type {\n",
       "        vertical-align: middle;\n",
       "    }\n",
       "\n",
       "    .dataframe tbody tr th {\n",
       "        vertical-align: top;\n",
       "    }\n",
       "\n",
       "    .dataframe thead th {\n",
       "        text-align: right;\n",
       "    }\n",
       "</style>\n",
       "<table border=\"1\" class=\"dataframe\">\n",
       "  <thead>\n",
       "    <tr style=\"text-align: right;\">\n",
       "      <th></th>\n",
       "      <th>holiday</th>\n",
       "      <th>discount</th>\n",
       "      <th>year</th>\n",
       "      <th>month</th>\n",
       "      <th>day</th>\n",
       "      <th>store_type_S2</th>\n",
       "      <th>store_type_S3</th>\n",
       "      <th>store_type_S4</th>\n",
       "      <th>location_type_L2</th>\n",
       "      <th>location_type_L3</th>\n",
       "      <th>location_type_L4</th>\n",
       "      <th>location_type_L5</th>\n",
       "      <th>region_code_R2</th>\n",
       "      <th>region_code_R3</th>\n",
       "      <th>region_code_R4</th>\n",
       "    </tr>\n",
       "  </thead>\n",
       "  <tbody>\n",
       "    <tr>\n",
       "      <th>0</th>\n",
       "      <td>1</td>\n",
       "      <td>1</td>\n",
       "      <td>2018</td>\n",
       "      <td>1</td>\n",
       "      <td>1</td>\n",
       "      <td>0</td>\n",
       "      <td>0</td>\n",
       "      <td>0</td>\n",
       "      <td>0</td>\n",
       "      <td>1</td>\n",
       "      <td>0</td>\n",
       "      <td>0</td>\n",
       "      <td>0</td>\n",
       "      <td>0</td>\n",
       "      <td>0</td>\n",
       "    </tr>\n",
       "    <tr>\n",
       "      <th>1</th>\n",
       "      <td>1</td>\n",
       "      <td>1</td>\n",
       "      <td>2018</td>\n",
       "      <td>1</td>\n",
       "      <td>1</td>\n",
       "      <td>0</td>\n",
       "      <td>0</td>\n",
       "      <td>1</td>\n",
       "      <td>1</td>\n",
       "      <td>0</td>\n",
       "      <td>0</td>\n",
       "      <td>0</td>\n",
       "      <td>0</td>\n",
       "      <td>0</td>\n",
       "      <td>0</td>\n",
       "    </tr>\n",
       "    <tr>\n",
       "      <th>2</th>\n",
       "      <td>1</td>\n",
       "      <td>1</td>\n",
       "      <td>2018</td>\n",
       "      <td>1</td>\n",
       "      <td>1</td>\n",
       "      <td>0</td>\n",
       "      <td>1</td>\n",
       "      <td>0</td>\n",
       "      <td>1</td>\n",
       "      <td>0</td>\n",
       "      <td>0</td>\n",
       "      <td>0</td>\n",
       "      <td>0</td>\n",
       "      <td>0</td>\n",
       "      <td>0</td>\n",
       "    </tr>\n",
       "    <tr>\n",
       "      <th>3</th>\n",
       "      <td>1</td>\n",
       "      <td>1</td>\n",
       "      <td>2018</td>\n",
       "      <td>1</td>\n",
       "      <td>1</td>\n",
       "      <td>1</td>\n",
       "      <td>0</td>\n",
       "      <td>0</td>\n",
       "      <td>0</td>\n",
       "      <td>1</td>\n",
       "      <td>0</td>\n",
       "      <td>0</td>\n",
       "      <td>0</td>\n",
       "      <td>0</td>\n",
       "      <td>0</td>\n",
       "    </tr>\n",
       "    <tr>\n",
       "      <th>4</th>\n",
       "      <td>1</td>\n",
       "      <td>1</td>\n",
       "      <td>2018</td>\n",
       "      <td>1</td>\n",
       "      <td>1</td>\n",
       "      <td>1</td>\n",
       "      <td>0</td>\n",
       "      <td>0</td>\n",
       "      <td>0</td>\n",
       "      <td>1</td>\n",
       "      <td>0</td>\n",
       "      <td>0</td>\n",
       "      <td>0</td>\n",
       "      <td>0</td>\n",
       "      <td>1</td>\n",
       "    </tr>\n",
       "  </tbody>\n",
       "</table>\n",
       "</div>"
      ],
      "text/plain": [
       "   holiday  discount  year  month  day  store_type_S2  store_type_S3  \\\n",
       "0        1         1  2018      1    1              0              0   \n",
       "1        1         1  2018      1    1              0              0   \n",
       "2        1         1  2018      1    1              0              1   \n",
       "3        1         1  2018      1    1              1              0   \n",
       "4        1         1  2018      1    1              1              0   \n",
       "\n",
       "   store_type_S4  location_type_L2  location_type_L3  location_type_L4  \\\n",
       "0              0                 0                 1                 0   \n",
       "1              1                 1                 0                 0   \n",
       "2              0                 1                 0                 0   \n",
       "3              0                 0                 1                 0   \n",
       "4              0                 0                 1                 0   \n",
       "\n",
       "   location_type_L5  region_code_R2  region_code_R3  region_code_R4  \n",
       "0                 0               0               0               0  \n",
       "1                 0               0               0               0  \n",
       "2                 0               0               0               0  \n",
       "3                 0               0               0               0  \n",
       "4                 0               0               0               1  "
      ]
     },
     "execution_count": 28,
     "metadata": {},
     "output_type": "execute_result"
    }
   ],
   "source": [
    "x.head()"
   ]
  },
  {
   "cell_type": "code",
   "execution_count": 29,
   "id": "0c6ad2d6",
   "metadata": {
    "scrolled": false
   },
   "outputs": [
    {
     "data": {
      "text/plain": [
       "0     7011.839844\n",
       "1    51789.121094\n",
       "2    36868.199219\n",
       "3    19715.160156\n",
       "4    45614.519531\n",
       "Name: sales, dtype: float32"
      ]
     },
     "execution_count": 29,
     "metadata": {},
     "output_type": "execute_result"
    }
   ],
   "source": [
    "y.head()"
   ]
  },
  {
   "cell_type": "code",
   "execution_count": 30,
   "id": "124d0675",
   "metadata": {},
   "outputs": [],
   "source": [
    "#create train and test split\n",
    "from sklearn import model_selection\n",
    "x_train,x_test,y_train,y_test = model_selection.train_test_split(x,y,test_size=0.2,random_state=42)"
   ]
  },
  {
   "cell_type": "code",
   "execution_count": 31,
   "id": "046661b8",
   "metadata": {},
   "outputs": [
    {
     "name": "stdout",
     "output_type": "stream",
     "text": [
      "-2236018.489510738\n",
      "[ -8846.20469938  12120.95641828   1125.56651253    -43.32613653\n",
      "    -22.10318208  -4730.85676642   4637.03560761  13573.93270863\n",
      "  10529.02409169  -4589.13657219  -7649.76362994 -10226.73412214\n",
      "   -621.62550804   -924.3157413   -1203.58651318]\n"
     ]
    }
   ],
   "source": [
    "#using train, test datasets\n",
    "from sklearn import linear_model as lm\n",
    "reg = lm.LinearRegression(normalize=True)\n",
    "reg.fit(x_train, y_train)\n",
    "\n",
    "# print intercept and coefficients\n",
    "print(reg.intercept_)\n",
    "print(reg.coef_)\n",
    "\n"
   ]
  },
  {
   "cell_type": "code",
   "execution_count": 32,
   "id": "cc609154",
   "metadata": {},
   "outputs": [
    {
     "data": {
      "application/javascript": [
       "\n",
       "        if (window._pyforest_update_imports_cell) { window._pyforest_update_imports_cell('from sklearn.preprocessing import LabelEncoder\\nimport pandas as pd'); }\n",
       "    "
      ],
      "text/plain": [
       "<IPython.core.display.Javascript object>"
      ]
     },
     "metadata": {},
     "output_type": "display_data"
    }
   ],
   "source": [
    "\n",
    "#predictions  on test dataset\n",
    "predictions = reg.predict(x_test)\n",
    "validate = pd.DataFrame({'Actual': y_test, 'Predicted': predictions})\n"
   ]
  },
  {
   "cell_type": "code",
   "execution_count": 33,
   "id": "0efbd32c",
   "metadata": {},
   "outputs": [
    {
     "data": {
      "application/javascript": [
       "\n",
       "        if (window._pyforest_update_imports_cell) { window._pyforest_update_imports_cell('from sklearn.preprocessing import LabelEncoder\\nimport pandas as pd\\nimport numpy as np'); }\n",
       "    "
      ],
      "text/plain": [
       "<IPython.core.display.Javascript object>"
      ]
     },
     "metadata": {},
     "output_type": "display_data"
    },
    {
     "name": "stdout",
     "output_type": "stream",
     "text": [
      "Root Mean Squared Error: 12366.841709239978\n",
      "Mean Squared Error: 152938773.8613976\n",
      "Mean Squared Log Error: 111.65883528091167\n"
     ]
    }
   ],
   "source": [
    "# Evaluating\n",
    "from sklearn import metrics\n",
    "from sklearn.metrics import mean_squared_log_error\n",
    "print('Root Mean Squared Error:',np.sqrt(metrics.mean_squared_error(y_test, predictions)))\n",
    "print('Mean Squared Error:', metrics.mean_squared_error(y_test, predictions))\n",
    "print('Mean Squared Log Error:', mean_squared_log_error(y_test, predictions)*1000)"
   ]
  },
  {
   "cell_type": "code",
   "execution_count": 34,
   "id": "f0753a8a",
   "metadata": {},
   "outputs": [
    {
     "data": {
      "text/html": [
       "<table class=\"simpletable\">\n",
       "<caption>OLS Regression Results</caption>\n",
       "<tr>\n",
       "  <th>Dep. Variable:</th>          <td>sales</td>      <th>  R-squared:         </th>  <td>   0.550</td>  \n",
       "</tr>\n",
       "<tr>\n",
       "  <th>Model:</th>                   <td>OLS</td>       <th>  Adj. R-squared:    </th>  <td>   0.550</td>  \n",
       "</tr>\n",
       "<tr>\n",
       "  <th>Method:</th>             <td>Least Squares</td>  <th>  F-statistic:       </th>  <td>1.535e+04</td> \n",
       "</tr>\n",
       "<tr>\n",
       "  <th>Date:</th>             <td>Sun, 19 Sep 2021</td> <th>  Prob (F-statistic):</th>   <td>  0.00</td>   \n",
       "</tr>\n",
       "<tr>\n",
       "  <th>Time:</th>                 <td>22:53:11</td>     <th>  Log-Likelihood:    </th> <td>-2.0421e+06</td>\n",
       "</tr>\n",
       "<tr>\n",
       "  <th>No. Observations:</th>      <td>188340</td>      <th>  AIC:               </th>  <td>4.084e+06</td> \n",
       "</tr>\n",
       "<tr>\n",
       "  <th>Df Residuals:</th>          <td>188324</td>      <th>  BIC:               </th>  <td>4.084e+06</td> \n",
       "</tr>\n",
       "<tr>\n",
       "  <th>Df Model:</th>              <td>    15</td>      <th>                     </th>      <td> </td>     \n",
       "</tr>\n",
       "<tr>\n",
       "  <th>Covariance Type:</th>      <td>nonrobust</td>    <th>                     </th>      <td> </td>     \n",
       "</tr>\n",
       "</table>\n",
       "<table class=\"simpletable\">\n",
       "<tr>\n",
       "          <td></td>            <th>coef</th>     <th>std err</th>      <th>t</th>      <th>P>|t|</th>  <th>[0.025</th>    <th>0.975]</th>  \n",
       "</tr>\n",
       "<tr>\n",
       "  <th>Intercept</th>        <td>-2.146e+06</td> <td> 1.44e+05</td> <td>  -14.956</td> <td> 0.000</td> <td>-2.43e+06</td> <td>-1.86e+06</td>\n",
       "</tr>\n",
       "<tr>\n",
       "  <th>holiday</th>          <td>-8798.9699</td> <td>   84.396</td> <td> -104.258</td> <td> 0.000</td> <td>-8964.385</td> <td>-8633.555</td>\n",
       "</tr>\n",
       "<tr>\n",
       "  <th>discount</th>         <td> 1.209e+04</td> <td>   57.590</td> <td>  209.955</td> <td> 0.000</td> <td>  1.2e+04</td> <td> 1.22e+04</td>\n",
       "</tr>\n",
       "<tr>\n",
       "  <th>year</th>             <td> 1081.0937</td> <td>   71.090</td> <td>   15.207</td> <td> 0.000</td> <td>  941.759</td> <td> 1220.428</td>\n",
       "</tr>\n",
       "<tr>\n",
       "  <th>month</th>            <td>  -41.6515</td> <td>    9.512</td> <td>   -4.379</td> <td> 0.000</td> <td>  -60.294</td> <td>  -23.009</td>\n",
       "</tr>\n",
       "<tr>\n",
       "  <th>day</th>              <td>  -23.2821</td> <td>    3.259</td> <td>   -7.145</td> <td> 0.000</td> <td>  -29.669</td> <td>  -16.895</td>\n",
       "</tr>\n",
       "<tr>\n",
       "  <th>store_type_S2</th>    <td>-4790.7559</td> <td>   99.889</td> <td>  -47.961</td> <td> 0.000</td> <td>-4986.536</td> <td>-4594.976</td>\n",
       "</tr>\n",
       "<tr>\n",
       "  <th>store_type_S3</th>    <td> 4651.3219</td> <td>   95.328</td> <td>   48.793</td> <td> 0.000</td> <td> 4464.482</td> <td> 4838.162</td>\n",
       "</tr>\n",
       "<tr>\n",
       "  <th>store_type_S4</th>    <td> 1.355e+04</td> <td>   97.240</td> <td>  139.386</td> <td> 0.000</td> <td> 1.34e+04</td> <td> 1.37e+04</td>\n",
       "</tr>\n",
       "<tr>\n",
       "  <th>location_type_L2</th> <td> 1.053e+04</td> <td>   85.106</td> <td>  123.760</td> <td> 0.000</td> <td> 1.04e+04</td> <td> 1.07e+04</td>\n",
       "</tr>\n",
       "<tr>\n",
       "  <th>location_type_L3</th> <td>-4551.4422</td> <td>   89.644</td> <td>  -50.773</td> <td> 0.000</td> <td>-4727.142</td> <td>-4375.743</td>\n",
       "</tr>\n",
       "<tr>\n",
       "  <th>location_type_L4</th> <td>-7663.1623</td> <td>  134.383</td> <td>  -57.025</td> <td> 0.000</td> <td>-7926.550</td> <td>-7399.774</td>\n",
       "</tr>\n",
       "<tr>\n",
       "  <th>location_type_L5</th> <td>-1.017e+04</td> <td>  136.091</td> <td>  -74.732</td> <td> 0.000</td> <td>-1.04e+04</td> <td>-9903.610</td>\n",
       "</tr>\n",
       "<tr>\n",
       "  <th>region_code_R2</th>   <td> -627.3984</td> <td>   77.025</td> <td>   -8.145</td> <td> 0.000</td> <td> -778.367</td> <td> -476.430</td>\n",
       "</tr>\n",
       "<tr>\n",
       "  <th>region_code_R3</th>   <td> -903.3814</td> <td>   81.286</td> <td>  -11.114</td> <td> 0.000</td> <td>-1062.700</td> <td> -744.062</td>\n",
       "</tr>\n",
       "<tr>\n",
       "  <th>region_code_R4</th>   <td>-1139.6153</td> <td>   98.578</td> <td>  -11.561</td> <td> 0.000</td> <td>-1332.826</td> <td> -946.405</td>\n",
       "</tr>\n",
       "</table>\n",
       "<table class=\"simpletable\">\n",
       "<tr>\n",
       "  <th>Omnibus:</th>       <td>58925.195</td> <th>  Durbin-Watson:     </th>  <td>   1.340</td> \n",
       "</tr>\n",
       "<tr>\n",
       "  <th>Prob(Omnibus):</th>  <td> 0.000</td>   <th>  Jarque-Bera (JB):  </th> <td>443145.665</td>\n",
       "</tr>\n",
       "<tr>\n",
       "  <th>Skew:</th>           <td> 1.304</td>   <th>  Prob(JB):          </th>  <td>    0.00</td> \n",
       "</tr>\n",
       "<tr>\n",
       "  <th>Kurtosis:</th>       <td>10.048</td>   <th>  Cond. No.          </th>  <td>1.02e+07</td> \n",
       "</tr>\n",
       "</table><br/><br/>Notes:<br/>[1] Standard Errors assume that the covariance matrix of the errors is correctly specified.<br/>[2] The condition number is large, 1.02e+07. This might indicate that there are<br/>strong multicollinearity or other numerical problems."
      ],
      "text/plain": [
       "<class 'statsmodels.iolib.summary.Summary'>\n",
       "\"\"\"\n",
       "                            OLS Regression Results                            \n",
       "==============================================================================\n",
       "Dep. Variable:                  sales   R-squared:                       0.550\n",
       "Model:                            OLS   Adj. R-squared:                  0.550\n",
       "Method:                 Least Squares   F-statistic:                 1.535e+04\n",
       "Date:                Sun, 19 Sep 2021   Prob (F-statistic):               0.00\n",
       "Time:                        22:53:11   Log-Likelihood:            -2.0421e+06\n",
       "No. Observations:              188340   AIC:                         4.084e+06\n",
       "Df Residuals:                  188324   BIC:                         4.084e+06\n",
       "Df Model:                          15                                         \n",
       "Covariance Type:            nonrobust                                         \n",
       "====================================================================================\n",
       "                       coef    std err          t      P>|t|      [0.025      0.975]\n",
       "------------------------------------------------------------------------------------\n",
       "Intercept        -2.146e+06   1.44e+05    -14.956      0.000   -2.43e+06   -1.86e+06\n",
       "holiday          -8798.9699     84.396   -104.258      0.000   -8964.385   -8633.555\n",
       "discount          1.209e+04     57.590    209.955      0.000     1.2e+04    1.22e+04\n",
       "year              1081.0937     71.090     15.207      0.000     941.759    1220.428\n",
       "month              -41.6515      9.512     -4.379      0.000     -60.294     -23.009\n",
       "day                -23.2821      3.259     -7.145      0.000     -29.669     -16.895\n",
       "store_type_S2    -4790.7559     99.889    -47.961      0.000   -4986.536   -4594.976\n",
       "store_type_S3     4651.3219     95.328     48.793      0.000    4464.482    4838.162\n",
       "store_type_S4     1.355e+04     97.240    139.386      0.000    1.34e+04    1.37e+04\n",
       "location_type_L2  1.053e+04     85.106    123.760      0.000    1.04e+04    1.07e+04\n",
       "location_type_L3 -4551.4422     89.644    -50.773      0.000   -4727.142   -4375.743\n",
       "location_type_L4 -7663.1623    134.383    -57.025      0.000   -7926.550   -7399.774\n",
       "location_type_L5 -1.017e+04    136.091    -74.732      0.000   -1.04e+04   -9903.610\n",
       "region_code_R2    -627.3984     77.025     -8.145      0.000    -778.367    -476.430\n",
       "region_code_R3    -903.3814     81.286    -11.114      0.000   -1062.700    -744.062\n",
       "region_code_R4   -1139.6153     98.578    -11.561      0.000   -1332.826    -946.405\n",
       "==============================================================================\n",
       "Omnibus:                    58925.195   Durbin-Watson:                   1.340\n",
       "Prob(Omnibus):                  0.000   Jarque-Bera (JB):           443145.665\n",
       "Skew:                           1.304   Prob(JB):                         0.00\n",
       "Kurtosis:                      10.048   Cond. No.                     1.02e+07\n",
       "==============================================================================\n",
       "\n",
       "Notes:\n",
       "[1] Standard Errors assume that the covariance matrix of the errors is correctly specified.\n",
       "[2] The condition number is large, 1.02e+07. This might indicate that there are\n",
       "strong multicollinearity or other numerical problems.\n",
       "\"\"\""
      ]
     },
     "execution_count": 34,
     "metadata": {},
     "output_type": "execute_result"
    }
   ],
   "source": [
    "import statsmodels.formula.api as smf\n",
    "import statsmodels.api as sm\n",
    "lm = smf.ols(formula='sales ~ holiday + discount + year + month + day + store_type_S2 + store_type_S3 + store_type_S4 + location_type_L2 + location_type_L3 + location_type_L4 + location_type_L5 + region_code_R2 + region_code_R3 + region_code_R4', data=df).fit()\n",
    "lm.conf_int()\n",
    "lm.summary()#viewing the metrics of linear regressions"
   ]
  },
  {
   "cell_type": "code",
   "execution_count": 35,
   "id": "2c5f3368",
   "metadata": {},
   "outputs": [],
   "source": [
    "predictions = reg.predict(x_test) #predicting on the test dataset"
   ]
  },
  {
   "cell_type": "code",
   "execution_count": 36,
   "id": "f0347025",
   "metadata": {
    "scrolled": false
   },
   "outputs": [
    {
     "data": {
      "text/html": [
       "<div>\n",
       "<style scoped>\n",
       "    .dataframe tbody tr th:only-of-type {\n",
       "        vertical-align: middle;\n",
       "    }\n",
       "\n",
       "    .dataframe tbody tr th {\n",
       "        vertical-align: top;\n",
       "    }\n",
       "\n",
       "    .dataframe thead th {\n",
       "        text-align: right;\n",
       "    }\n",
       "</style>\n",
       "<table border=\"1\" class=\"dataframe\">\n",
       "  <thead>\n",
       "    <tr style=\"text-align: right;\">\n",
       "      <th></th>\n",
       "      <th>id</th>\n",
       "      <th>store_id</th>\n",
       "      <th>date</th>\n",
       "      <th>holiday</th>\n",
       "      <th>discount</th>\n",
       "      <th>sales</th>\n",
       "      <th>year</th>\n",
       "      <th>month</th>\n",
       "      <th>day</th>\n",
       "      <th>store_type_S2</th>\n",
       "      <th>store_type_S3</th>\n",
       "      <th>store_type_S4</th>\n",
       "      <th>location_type_L2</th>\n",
       "      <th>location_type_L3</th>\n",
       "      <th>location_type_L4</th>\n",
       "      <th>location_type_L5</th>\n",
       "      <th>region_code_R2</th>\n",
       "      <th>region_code_R3</th>\n",
       "      <th>region_code_R4</th>\n",
       "    </tr>\n",
       "  </thead>\n",
       "  <tbody>\n",
       "    <tr>\n",
       "      <th>0</th>\n",
       "      <td>T1000001</td>\n",
       "      <td>1</td>\n",
       "      <td>2018-01-01</td>\n",
       "      <td>1</td>\n",
       "      <td>1</td>\n",
       "      <td>7011.839844</td>\n",
       "      <td>2018</td>\n",
       "      <td>1</td>\n",
       "      <td>1</td>\n",
       "      <td>0</td>\n",
       "      <td>0</td>\n",
       "      <td>0</td>\n",
       "      <td>0</td>\n",
       "      <td>1</td>\n",
       "      <td>0</td>\n",
       "      <td>0</td>\n",
       "      <td>0</td>\n",
       "      <td>0</td>\n",
       "      <td>0</td>\n",
       "    </tr>\n",
       "    <tr>\n",
       "      <th>1</th>\n",
       "      <td>T1000002</td>\n",
       "      <td>253</td>\n",
       "      <td>2018-01-01</td>\n",
       "      <td>1</td>\n",
       "      <td>1</td>\n",
       "      <td>51789.121094</td>\n",
       "      <td>2018</td>\n",
       "      <td>1</td>\n",
       "      <td>1</td>\n",
       "      <td>0</td>\n",
       "      <td>0</td>\n",
       "      <td>1</td>\n",
       "      <td>1</td>\n",
       "      <td>0</td>\n",
       "      <td>0</td>\n",
       "      <td>0</td>\n",
       "      <td>0</td>\n",
       "      <td>0</td>\n",
       "      <td>0</td>\n",
       "    </tr>\n",
       "    <tr>\n",
       "      <th>2</th>\n",
       "      <td>T1000003</td>\n",
       "      <td>252</td>\n",
       "      <td>2018-01-01</td>\n",
       "      <td>1</td>\n",
       "      <td>1</td>\n",
       "      <td>36868.199219</td>\n",
       "      <td>2018</td>\n",
       "      <td>1</td>\n",
       "      <td>1</td>\n",
       "      <td>0</td>\n",
       "      <td>1</td>\n",
       "      <td>0</td>\n",
       "      <td>1</td>\n",
       "      <td>0</td>\n",
       "      <td>0</td>\n",
       "      <td>0</td>\n",
       "      <td>0</td>\n",
       "      <td>0</td>\n",
       "      <td>0</td>\n",
       "    </tr>\n",
       "    <tr>\n",
       "      <th>3</th>\n",
       "      <td>T1000004</td>\n",
       "      <td>251</td>\n",
       "      <td>2018-01-01</td>\n",
       "      <td>1</td>\n",
       "      <td>1</td>\n",
       "      <td>19715.160156</td>\n",
       "      <td>2018</td>\n",
       "      <td>1</td>\n",
       "      <td>1</td>\n",
       "      <td>1</td>\n",
       "      <td>0</td>\n",
       "      <td>0</td>\n",
       "      <td>0</td>\n",
       "      <td>1</td>\n",
       "      <td>0</td>\n",
       "      <td>0</td>\n",
       "      <td>0</td>\n",
       "      <td>0</td>\n",
       "      <td>0</td>\n",
       "    </tr>\n",
       "    <tr>\n",
       "      <th>4</th>\n",
       "      <td>T1000005</td>\n",
       "      <td>250</td>\n",
       "      <td>2018-01-01</td>\n",
       "      <td>1</td>\n",
       "      <td>1</td>\n",
       "      <td>45614.519531</td>\n",
       "      <td>2018</td>\n",
       "      <td>1</td>\n",
       "      <td>1</td>\n",
       "      <td>1</td>\n",
       "      <td>0</td>\n",
       "      <td>0</td>\n",
       "      <td>0</td>\n",
       "      <td>1</td>\n",
       "      <td>0</td>\n",
       "      <td>0</td>\n",
       "      <td>0</td>\n",
       "      <td>0</td>\n",
       "      <td>1</td>\n",
       "    </tr>\n",
       "  </tbody>\n",
       "</table>\n",
       "</div>"
      ],
      "text/plain": [
       "         id  store_id       date  holiday  discount         sales  year  \\\n",
       "0  T1000001         1 2018-01-01        1         1   7011.839844  2018   \n",
       "1  T1000002       253 2018-01-01        1         1  51789.121094  2018   \n",
       "2  T1000003       252 2018-01-01        1         1  36868.199219  2018   \n",
       "3  T1000004       251 2018-01-01        1         1  19715.160156  2018   \n",
       "4  T1000005       250 2018-01-01        1         1  45614.519531  2018   \n",
       "\n",
       "   month  day  store_type_S2  store_type_S3  store_type_S4  location_type_L2  \\\n",
       "0      1    1              0              0              0                 0   \n",
       "1      1    1              0              0              1                 1   \n",
       "2      1    1              0              1              0                 1   \n",
       "3      1    1              1              0              0                 0   \n",
       "4      1    1              1              0              0                 0   \n",
       "\n",
       "   location_type_L3  location_type_L4  location_type_L5  region_code_R2  \\\n",
       "0                 1                 0                 0               0   \n",
       "1                 0                 0                 0               0   \n",
       "2                 0                 0                 0               0   \n",
       "3                 1                 0                 0               0   \n",
       "4                 1                 0                 0               0   \n",
       "\n",
       "   region_code_R3  region_code_R4  \n",
       "0               0               0  \n",
       "1               0               0  \n",
       "2               0               0  \n",
       "3               0               0  \n",
       "4               0               1  "
      ]
     },
     "execution_count": 36,
     "metadata": {},
     "output_type": "execute_result"
    }
   ],
   "source": [
    "df.head()"
   ]
  },
  {
   "cell_type": "code",
   "execution_count": 37,
   "id": "2143f720",
   "metadata": {},
   "outputs": [
    {
     "data": {
      "text/plain": [
       "LinearRegression(normalize=True)"
      ]
     },
     "execution_count": 37,
     "metadata": {},
     "output_type": "execute_result"
    }
   ],
   "source": [
    "#Training on the whole model\n",
    "reg.fit(x, y)"
   ]
  },
  {
   "cell_type": "code",
   "execution_count": 38,
   "id": "440c9245",
   "metadata": {},
   "outputs": [],
   "source": [
    "df_id=df_test_final['id'] #copping Id on the final Dataset\n",
    "df_test_final=df_test_final.drop(['store_id','date','id'], axis=1) #Dropping the columns"
   ]
  },
  {
   "cell_type": "code",
   "execution_count": 39,
   "id": "b35637e4",
   "metadata": {},
   "outputs": [
    {
     "name": "stdout",
     "output_type": "stream",
     "text": [
      "<class 'pandas.core.frame.DataFrame'>\n",
      "RangeIndex: 22265 entries, 0 to 22264\n",
      "Data columns (total 15 columns):\n",
      " #   Column            Non-Null Count  Dtype\n",
      "---  ------            --------------  -----\n",
      " 0   holiday           22265 non-null  int8 \n",
      " 1   discount          22265 non-null  int32\n",
      " 2   year              22265 non-null  int64\n",
      " 3   month             22265 non-null  int64\n",
      " 4   day               22265 non-null  int64\n",
      " 5   store_type_S2     22265 non-null  uint8\n",
      " 6   store_type_S3     22265 non-null  uint8\n",
      " 7   store_type_S4     22265 non-null  uint8\n",
      " 8   location_type_L2  22265 non-null  uint8\n",
      " 9   location_type_L3  22265 non-null  uint8\n",
      " 10  location_type_L4  22265 non-null  uint8\n",
      " 11  location_type_L5  22265 non-null  uint8\n",
      " 12  region_code_R2    22265 non-null  uint8\n",
      " 13  region_code_R3    22265 non-null  uint8\n",
      " 14  region_code_R4    22265 non-null  uint8\n",
      "dtypes: int32(1), int64(3), int8(1), uint8(10)\n",
      "memory usage: 848.1 KB\n"
     ]
    }
   ],
   "source": [
    "df_test_final.info()"
   ]
  },
  {
   "cell_type": "code",
   "execution_count": 40,
   "id": "045be184",
   "metadata": {},
   "outputs": [],
   "source": [
    "predictions = reg.predict(df_test_final) #Applying the predictions on the unknown dataset"
   ]
  },
  {
   "cell_type": "code",
   "execution_count": 41,
   "id": "f7679612",
   "metadata": {},
   "outputs": [
    {
     "data": {
      "application/javascript": [
       "\n",
       "        if (window._pyforest_update_imports_cell) { window._pyforest_update_imports_cell('from sklearn.preprocessing import LabelEncoder\\nimport pandas as pd\\nimport numpy as np'); }\n",
       "    "
      ],
      "text/plain": [
       "<IPython.core.display.Javascript object>"
      ]
     },
     "metadata": {},
     "output_type": "display_data"
    },
    {
     "data": {
      "application/javascript": [
       "\n",
       "        if (window._pyforest_update_imports_cell) { window._pyforest_update_imports_cell('from sklearn.preprocessing import LabelEncoder\\nimport pandas as pd\\nimport numpy as np'); }\n",
       "    "
      ],
      "text/plain": [
       "<IPython.core.display.Javascript object>"
      ]
     },
     "metadata": {},
     "output_type": "display_data"
    }
   ],
   "source": [
    "predictions = pd.DataFrame(predictions)#converting into dataframe\n",
    "\n",
    "predicted_sales= pd.concat([df_id, predictions],axis=1) #combining two datasets\n",
    "\n",
    "predicted_sales.columns = ['ID', 'Sales'] #renaming Columns"
   ]
  },
  {
   "cell_type": "code",
   "execution_count": 42,
   "id": "aedb7fbe",
   "metadata": {},
   "outputs": [
    {
     "data": {
      "text/html": [
       "<div>\n",
       "<style scoped>\n",
       "    .dataframe tbody tr th:only-of-type {\n",
       "        vertical-align: middle;\n",
       "    }\n",
       "\n",
       "    .dataframe tbody tr th {\n",
       "        vertical-align: top;\n",
       "    }\n",
       "\n",
       "    .dataframe thead th {\n",
       "        text-align: right;\n",
       "    }\n",
       "</style>\n",
       "<table border=\"1\" class=\"dataframe\">\n",
       "  <thead>\n",
       "    <tr style=\"text-align: right;\">\n",
       "      <th></th>\n",
       "      <th>Sales</th>\n",
       "    </tr>\n",
       "  </thead>\n",
       "  <tbody>\n",
       "    <tr>\n",
       "      <th>count</th>\n",
       "      <td>22265.000000</td>\n",
       "    </tr>\n",
       "    <tr>\n",
       "      <th>mean</th>\n",
       "      <td>44120.056298</td>\n",
       "    </tr>\n",
       "    <tr>\n",
       "      <th>std</th>\n",
       "      <td>13379.237896</td>\n",
       "    </tr>\n",
       "    <tr>\n",
       "      <th>min</th>\n",
       "      <td>11179.123045</td>\n",
       "    </tr>\n",
       "    <tr>\n",
       "      <th>25%</th>\n",
       "      <td>34779.632695</td>\n",
       "    </tr>\n",
       "    <tr>\n",
       "      <th>50%</th>\n",
       "      <td>42874.763642</td>\n",
       "    </tr>\n",
       "    <tr>\n",
       "      <th>75%</th>\n",
       "      <td>52049.332883</td>\n",
       "    </tr>\n",
       "    <tr>\n",
       "      <th>max</th>\n",
       "      <td>72368.094334</td>\n",
       "    </tr>\n",
       "  </tbody>\n",
       "</table>\n",
       "</div>"
      ],
      "text/plain": [
       "              Sales\n",
       "count  22265.000000\n",
       "mean   44120.056298\n",
       "std    13379.237896\n",
       "min    11179.123045\n",
       "25%    34779.632695\n",
       "50%    42874.763642\n",
       "75%    52049.332883\n",
       "max    72368.094334"
      ]
     },
     "execution_count": 42,
     "metadata": {},
     "output_type": "execute_result"
    }
   ],
   "source": [
    "predicted_sales.describe() #checking The predictions"
   ]
  },
  {
   "cell_type": "code",
   "execution_count": 43,
   "id": "103ade13",
   "metadata": {},
   "outputs": [
    {
     "data": {
      "text/plain": [
       "count    188340.000000\n",
       "mean      42784.382812\n",
       "std       18456.414062\n",
       "min           0.000000\n",
       "25%       30426.000000\n",
       "50%       39678.000000\n",
       "75%       51909.000000\n",
       "max      247215.000000\n",
       "Name: sales, dtype: float64"
      ]
     },
     "execution_count": 43,
     "metadata": {},
     "output_type": "execute_result"
    }
   ],
   "source": [
    "y.describe()"
   ]
  },
  {
   "cell_type": "code",
   "execution_count": 45,
   "id": "4ee7f2be",
   "metadata": {},
   "outputs": [],
   "source": [
    "predicted_sales.to_csv('Leanear_Regression_Sales_prediction.csv',index=False) #getting Output"
   ]
  },
  {
   "cell_type": "code",
   "execution_count": null,
   "id": "79ff92ff",
   "metadata": {},
   "outputs": [],
   "source": []
  }
 ],
 "metadata": {
  "kernelspec": {
   "display_name": "Python 3",
   "language": "python",
   "name": "python3"
  },
  "language_info": {
   "codemirror_mode": {
    "name": "ipython",
    "version": 3
   },
   "file_extension": ".py",
   "mimetype": "text/x-python",
   "name": "python",
   "nbconvert_exporter": "python",
   "pygments_lexer": "ipython3",
   "version": "3.8.8"
  }
 },
 "nbformat": 4,
 "nbformat_minor": 5
}
