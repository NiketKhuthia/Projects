{
 "cells": [
  {
   "cell_type": "markdown",
   "metadata": {},
   "source": [
    "### Project No. 1: Mercedes-Benz Greener Manufacturing"
   ]
  },
  {
   "cell_type": "code",
   "execution_count": 1,
   "metadata": {},
   "outputs": [],
   "source": [
    "# Step1: Import the required libraries\n",
    "\n",
    "# linear algebra\n",
    "import numpy as np\n",
    "# data processing, CSV file I/O (e.g. pd.read_csv)\n",
    "import pandas as pd\n",
    "# for dimensionality reduction\n",
    "from sklearn.decomposition import PCA"
   ]
  },
  {
   "cell_type": "code",
   "execution_count": 2,
   "metadata": {},
   "outputs": [
    {
     "name": "stdout",
     "output_type": "stream",
     "text": [
      "Size of training set: 4209 rows and 378 columns\n"
     ]
    }
   ],
   "source": [
    "# Step2: Read the data from train.csv\n",
    "\n",
    "df_train = pd.read_csv('train.csv')\n",
    "# let us understand the data\n",
    "print('Size of training set: {} rows and {} columns'\n",
    "      .format(*df_train.shape))"
   ]
  },
  {
   "cell_type": "code",
   "execution_count": 3,
   "metadata": {},
   "outputs": [
    {
     "data": {
      "text/html": [
       "<div>\n",
       "<style scoped>\n",
       "    .dataframe tbody tr th:only-of-type {\n",
       "        vertical-align: middle;\n",
       "    }\n",
       "\n",
       "    .dataframe tbody tr th {\n",
       "        vertical-align: top;\n",
       "    }\n",
       "\n",
       "    .dataframe thead th {\n",
       "        text-align: right;\n",
       "    }\n",
       "</style>\n",
       "<table border=\"1\" class=\"dataframe\">\n",
       "  <thead>\n",
       "    <tr style=\"text-align: right;\">\n",
       "      <th></th>\n",
       "      <th>ID</th>\n",
       "      <th>y</th>\n",
       "      <th>X0</th>\n",
       "      <th>X1</th>\n",
       "      <th>X2</th>\n",
       "      <th>X3</th>\n",
       "      <th>X4</th>\n",
       "      <th>X5</th>\n",
       "      <th>X6</th>\n",
       "      <th>X8</th>\n",
       "      <th>...</th>\n",
       "      <th>X375</th>\n",
       "      <th>X376</th>\n",
       "      <th>X377</th>\n",
       "      <th>X378</th>\n",
       "      <th>X379</th>\n",
       "      <th>X380</th>\n",
       "      <th>X382</th>\n",
       "      <th>X383</th>\n",
       "      <th>X384</th>\n",
       "      <th>X385</th>\n",
       "    </tr>\n",
       "  </thead>\n",
       "  <tbody>\n",
       "    <tr>\n",
       "      <th>0</th>\n",
       "      <td>0</td>\n",
       "      <td>130.81</td>\n",
       "      <td>k</td>\n",
       "      <td>v</td>\n",
       "      <td>at</td>\n",
       "      <td>a</td>\n",
       "      <td>d</td>\n",
       "      <td>u</td>\n",
       "      <td>j</td>\n",
       "      <td>o</td>\n",
       "      <td>...</td>\n",
       "      <td>0</td>\n",
       "      <td>0</td>\n",
       "      <td>1</td>\n",
       "      <td>0</td>\n",
       "      <td>0</td>\n",
       "      <td>0</td>\n",
       "      <td>0</td>\n",
       "      <td>0</td>\n",
       "      <td>0</td>\n",
       "      <td>0</td>\n",
       "    </tr>\n",
       "    <tr>\n",
       "      <th>1</th>\n",
       "      <td>6</td>\n",
       "      <td>88.53</td>\n",
       "      <td>k</td>\n",
       "      <td>t</td>\n",
       "      <td>av</td>\n",
       "      <td>e</td>\n",
       "      <td>d</td>\n",
       "      <td>y</td>\n",
       "      <td>l</td>\n",
       "      <td>o</td>\n",
       "      <td>...</td>\n",
       "      <td>1</td>\n",
       "      <td>0</td>\n",
       "      <td>0</td>\n",
       "      <td>0</td>\n",
       "      <td>0</td>\n",
       "      <td>0</td>\n",
       "      <td>0</td>\n",
       "      <td>0</td>\n",
       "      <td>0</td>\n",
       "      <td>0</td>\n",
       "    </tr>\n",
       "    <tr>\n",
       "      <th>2</th>\n",
       "      <td>7</td>\n",
       "      <td>76.26</td>\n",
       "      <td>az</td>\n",
       "      <td>w</td>\n",
       "      <td>n</td>\n",
       "      <td>c</td>\n",
       "      <td>d</td>\n",
       "      <td>x</td>\n",
       "      <td>j</td>\n",
       "      <td>x</td>\n",
       "      <td>...</td>\n",
       "      <td>0</td>\n",
       "      <td>0</td>\n",
       "      <td>0</td>\n",
       "      <td>0</td>\n",
       "      <td>0</td>\n",
       "      <td>0</td>\n",
       "      <td>1</td>\n",
       "      <td>0</td>\n",
       "      <td>0</td>\n",
       "      <td>0</td>\n",
       "    </tr>\n",
       "    <tr>\n",
       "      <th>3</th>\n",
       "      <td>9</td>\n",
       "      <td>80.62</td>\n",
       "      <td>az</td>\n",
       "      <td>t</td>\n",
       "      <td>n</td>\n",
       "      <td>f</td>\n",
       "      <td>d</td>\n",
       "      <td>x</td>\n",
       "      <td>l</td>\n",
       "      <td>e</td>\n",
       "      <td>...</td>\n",
       "      <td>0</td>\n",
       "      <td>0</td>\n",
       "      <td>0</td>\n",
       "      <td>0</td>\n",
       "      <td>0</td>\n",
       "      <td>0</td>\n",
       "      <td>0</td>\n",
       "      <td>0</td>\n",
       "      <td>0</td>\n",
       "      <td>0</td>\n",
       "    </tr>\n",
       "    <tr>\n",
       "      <th>4</th>\n",
       "      <td>13</td>\n",
       "      <td>78.02</td>\n",
       "      <td>az</td>\n",
       "      <td>v</td>\n",
       "      <td>n</td>\n",
       "      <td>f</td>\n",
       "      <td>d</td>\n",
       "      <td>h</td>\n",
       "      <td>d</td>\n",
       "      <td>n</td>\n",
       "      <td>...</td>\n",
       "      <td>0</td>\n",
       "      <td>0</td>\n",
       "      <td>0</td>\n",
       "      <td>0</td>\n",
       "      <td>0</td>\n",
       "      <td>0</td>\n",
       "      <td>0</td>\n",
       "      <td>0</td>\n",
       "      <td>0</td>\n",
       "      <td>0</td>\n",
       "    </tr>\n",
       "  </tbody>\n",
       "</table>\n",
       "<p>5 rows × 378 columns</p>\n",
       "</div>"
      ],
      "text/plain": [
       "   ID       y  X0 X1  X2 X3 X4 X5 X6 X8  ...  X375  X376  X377  X378  X379  \\\n",
       "0   0  130.81   k  v  at  a  d  u  j  o  ...     0     0     1     0     0   \n",
       "1   6   88.53   k  t  av  e  d  y  l  o  ...     1     0     0     0     0   \n",
       "2   7   76.26  az  w   n  c  d  x  j  x  ...     0     0     0     0     0   \n",
       "3   9   80.62  az  t   n  f  d  x  l  e  ...     0     0     0     0     0   \n",
       "4  13   78.02  az  v   n  f  d  h  d  n  ...     0     0     0     0     0   \n",
       "\n",
       "   X380  X382  X383  X384  X385  \n",
       "0     0     0     0     0     0  \n",
       "1     0     0     0     0     0  \n",
       "2     0     1     0     0     0  \n",
       "3     0     0     0     0     0  \n",
       "4     0     0     0     0     0  \n",
       "\n",
       "[5 rows x 378 columns]"
      ]
     },
     "execution_count": 3,
     "metadata": {},
     "output_type": "execute_result"
    }
   ],
   "source": [
    "# print few rows and see how the data looks like\n",
    "df_train.head()"
   ]
  },
  {
   "cell_type": "code",
   "execution_count": 4,
   "metadata": {},
   "outputs": [],
   "source": [
    "# Step3: Collect the Y values into an array\n",
    "\n",
    "# seperate the y from the data as we will use this to learn as \n",
    "# the prediction output\n",
    "y_train = df_train['y'].values"
   ]
  },
  {
   "cell_type": "code",
   "execution_count": 5,
   "metadata": {},
   "outputs": [
    {
     "name": "stdout",
     "output_type": "stream",
     "text": [
      "Number of features: 376\n"
     ]
    }
   ],
   "source": [
    "# Step4: Understand the data types we have\n",
    "\n",
    "# iterate through all the columns which has X in the name of the column\n",
    "cols = [c for c in df_train.columns if 'X' in c]\n",
    "print('Number of features: {}'.format(len(cols)))"
   ]
  },
  {
   "cell_type": "code",
   "execution_count": 6,
   "metadata": {},
   "outputs": [
    {
     "name": "stdout",
     "output_type": "stream",
     "text": [
      "Feature types:\n"
     ]
    },
    {
     "data": {
      "text/plain": [
       "int64     368\n",
       "object      8\n",
       "dtype: int64"
      ]
     },
     "execution_count": 6,
     "metadata": {},
     "output_type": "execute_result"
    }
   ],
   "source": [
    "print('Feature types:')\n",
    "df_train[cols].dtypes.value_counts()"
   ]
  },
  {
   "cell_type": "code",
   "execution_count": 7,
   "metadata": {},
   "outputs": [
    {
     "name": "stdout",
     "output_type": "stream",
     "text": [
      "Constant features: 12 Binary features: 356 Categorical features: 8\n",
      "\n",
      "Constant features: ['X11', 'X93', 'X107', 'X233', 'X235', 'X268', 'X289', 'X290', 'X293', 'X297', 'X330', 'X347']\n",
      "Categorical features: ['X0', 'X1', 'X2', 'X3', 'X4', 'X5', 'X6', 'X8']\n"
     ]
    }
   ],
   "source": [
    "# Step5: Count the data in each of the columns\n",
    "\n",
    "counts = [[], [], []]\n",
    "for c in cols:\n",
    "    typ = df_train[c].dtype\n",
    "    uniq = len(np.unique(df_train[c]))\n",
    "    if uniq == 1:\n",
    "        counts[0].append(c)\n",
    "    elif uniq == 2 and typ == np.int64:\n",
    "        counts[1].append(c)\n",
    "    else:\n",
    "        counts[2].append(c)\n",
    "\n",
    "print('Constant features: {} Binary features: {} Categorical features: {}\\n'\n",
    "      .format(*[len(c) for c in counts]))\n",
    "print('Constant features:', counts[0])\n",
    "print('Categorical features:', counts[2])"
   ]
  },
  {
   "cell_type": "code",
   "execution_count": 8,
   "metadata": {},
   "outputs": [],
   "source": [
    "# Step6: Read the test.csv data\n",
    "\n",
    "df_test = pd.read_csv('test.csv')\n",
    "\n",
    "# remove columns ID and Y from the data as they are not used for learning\n",
    "usable_columns = list(set(df_train.columns) - set(['ID', 'y']))\n",
    "y_train = df_train['y'].values\n",
    "id_test = df_test['ID'].values\n",
    "\n",
    "x_train = df_train[usable_columns]\n",
    "x_test = df_test[usable_columns]"
   ]
  },
  {
   "cell_type": "code",
   "execution_count": 9,
   "metadata": {},
   "outputs": [
    {
     "name": "stdout",
     "output_type": "stream",
     "text": [
      "There are no missing values in the dataframe\n",
      "There are no missing values in the dataframe\n"
     ]
    }
   ],
   "source": [
    "# Step7: Check for null and unique values for test and train sets\n",
    "\n",
    "def check_missing_values(df):\n",
    "    if df.isnull().any().any():\n",
    "        print(\"There are missing values in the dataframe\")\n",
    "    else:\n",
    "        print(\"There are no missing values in the dataframe\")\n",
    "check_missing_values(x_train)\n",
    "check_missing_values(x_test)"
   ]
  },
  {
   "cell_type": "code",
   "execution_count": 10,
   "metadata": {},
   "outputs": [
    {
     "name": "stderr",
     "output_type": "stream",
     "text": [
      "<ipython-input-10-9fdc2c8730c7>:13: SettingWithCopyWarning: \n",
      "A value is trying to be set on a copy of a slice from a DataFrame.\n",
      "Try using .loc[row_indexer,col_indexer] = value instead\n",
      "\n",
      "See the caveats in the documentation: https://pandas.pydata.org/pandas-docs/stable/user_guide/indexing.html#returning-a-view-versus-a-copy\n",
      "  x_train[column] = x_train[column].apply(mapper)\n",
      "<ipython-input-10-9fdc2c8730c7>:14: SettingWithCopyWarning: \n",
      "A value is trying to be set on a copy of a slice from a DataFrame.\n",
      "Try using .loc[row_indexer,col_indexer] = value instead\n",
      "\n",
      "See the caveats in the documentation: https://pandas.pydata.org/pandas-docs/stable/user_guide/indexing.html#returning-a-view-versus-a-copy\n",
      "  x_test[column] = x_test[column].apply(mapper)\n"
     ]
    },
    {
     "data": {
      "text/html": [
       "<div>\n",
       "<style scoped>\n",
       "    .dataframe tbody tr th:only-of-type {\n",
       "        vertical-align: middle;\n",
       "    }\n",
       "\n",
       "    .dataframe tbody tr th {\n",
       "        vertical-align: top;\n",
       "    }\n",
       "\n",
       "    .dataframe thead th {\n",
       "        text-align: right;\n",
       "    }\n",
       "</style>\n",
       "<table border=\"1\" class=\"dataframe\">\n",
       "  <thead>\n",
       "    <tr style=\"text-align: right;\">\n",
       "      <th></th>\n",
       "      <th>X110</th>\n",
       "      <th>X246</th>\n",
       "      <th>X299</th>\n",
       "      <th>X322</th>\n",
       "      <th>X18</th>\n",
       "      <th>X334</th>\n",
       "      <th>X5</th>\n",
       "      <th>X155</th>\n",
       "      <th>X0</th>\n",
       "      <th>X327</th>\n",
       "      <th>...</th>\n",
       "      <th>X366</th>\n",
       "      <th>X268</th>\n",
       "      <th>X341</th>\n",
       "      <th>X87</th>\n",
       "      <th>X296</th>\n",
       "      <th>X32</th>\n",
       "      <th>X243</th>\n",
       "      <th>X150</th>\n",
       "      <th>X348</th>\n",
       "      <th>X368</th>\n",
       "    </tr>\n",
       "  </thead>\n",
       "  <tbody>\n",
       "    <tr>\n",
       "      <th>0</th>\n",
       "      <td>0</td>\n",
       "      <td>0</td>\n",
       "      <td>0</td>\n",
       "      <td>0</td>\n",
       "      <td>1</td>\n",
       "      <td>1</td>\n",
       "      <td>117</td>\n",
       "      <td>0</td>\n",
       "      <td>107</td>\n",
       "      <td>1</td>\n",
       "      <td>...</td>\n",
       "      <td>0</td>\n",
       "      <td>0</td>\n",
       "      <td>0</td>\n",
       "      <td>0</td>\n",
       "      <td>0</td>\n",
       "      <td>0</td>\n",
       "      <td>0</td>\n",
       "      <td>1</td>\n",
       "      <td>0</td>\n",
       "      <td>0</td>\n",
       "    </tr>\n",
       "    <tr>\n",
       "      <th>1</th>\n",
       "      <td>0</td>\n",
       "      <td>0</td>\n",
       "      <td>0</td>\n",
       "      <td>0</td>\n",
       "      <td>1</td>\n",
       "      <td>0</td>\n",
       "      <td>121</td>\n",
       "      <td>0</td>\n",
       "      <td>107</td>\n",
       "      <td>0</td>\n",
       "      <td>...</td>\n",
       "      <td>0</td>\n",
       "      <td>0</td>\n",
       "      <td>0</td>\n",
       "      <td>0</td>\n",
       "      <td>0</td>\n",
       "      <td>0</td>\n",
       "      <td>0</td>\n",
       "      <td>1</td>\n",
       "      <td>1</td>\n",
       "      <td>0</td>\n",
       "    </tr>\n",
       "    <tr>\n",
       "      <th>2</th>\n",
       "      <td>0</td>\n",
       "      <td>1</td>\n",
       "      <td>0</td>\n",
       "      <td>0</td>\n",
       "      <td>0</td>\n",
       "      <td>1</td>\n",
       "      <td>120</td>\n",
       "      <td>0</td>\n",
       "      <td>219</td>\n",
       "      <td>0</td>\n",
       "      <td>...</td>\n",
       "      <td>0</td>\n",
       "      <td>0</td>\n",
       "      <td>0</td>\n",
       "      <td>0</td>\n",
       "      <td>0</td>\n",
       "      <td>0</td>\n",
       "      <td>0</td>\n",
       "      <td>1</td>\n",
       "      <td>1</td>\n",
       "      <td>0</td>\n",
       "    </tr>\n",
       "    <tr>\n",
       "      <th>3</th>\n",
       "      <td>0</td>\n",
       "      <td>1</td>\n",
       "      <td>0</td>\n",
       "      <td>0</td>\n",
       "      <td>0</td>\n",
       "      <td>0</td>\n",
       "      <td>120</td>\n",
       "      <td>0</td>\n",
       "      <td>219</td>\n",
       "      <td>0</td>\n",
       "      <td>...</td>\n",
       "      <td>0</td>\n",
       "      <td>0</td>\n",
       "      <td>0</td>\n",
       "      <td>0</td>\n",
       "      <td>0</td>\n",
       "      <td>0</td>\n",
       "      <td>0</td>\n",
       "      <td>1</td>\n",
       "      <td>1</td>\n",
       "      <td>0</td>\n",
       "    </tr>\n",
       "    <tr>\n",
       "      <th>4</th>\n",
       "      <td>0</td>\n",
       "      <td>1</td>\n",
       "      <td>0</td>\n",
       "      <td>0</td>\n",
       "      <td>0</td>\n",
       "      <td>1</td>\n",
       "      <td>104</td>\n",
       "      <td>0</td>\n",
       "      <td>219</td>\n",
       "      <td>0</td>\n",
       "      <td>...</td>\n",
       "      <td>0</td>\n",
       "      <td>0</td>\n",
       "      <td>0</td>\n",
       "      <td>0</td>\n",
       "      <td>0</td>\n",
       "      <td>0</td>\n",
       "      <td>0</td>\n",
       "      <td>1</td>\n",
       "      <td>1</td>\n",
       "      <td>0</td>\n",
       "    </tr>\n",
       "  </tbody>\n",
       "</table>\n",
       "<p>5 rows × 376 columns</p>\n",
       "</div>"
      ],
      "text/plain": [
       "   X110  X246  X299  X322  X18  X334   X5  X155   X0  X327  ...  X366  X268  \\\n",
       "0     0     0     0     0    1     1  117     0  107     1  ...     0     0   \n",
       "1     0     0     0     0    1     0  121     0  107     0  ...     0     0   \n",
       "2     0     1     0     0    0     1  120     0  219     0  ...     0     0   \n",
       "3     0     1     0     0    0     0  120     0  219     0  ...     0     0   \n",
       "4     0     1     0     0    0     1  104     0  219     0  ...     0     0   \n",
       "\n",
       "   X341  X87  X296  X32  X243  X150  X348  X368  \n",
       "0     0    0     0    0     0     1     0     0  \n",
       "1     0    0     0    0     0     1     1     0  \n",
       "2     0    0     0    0     0     1     1     0  \n",
       "3     0    0     0    0     0     1     1     0  \n",
       "4     0    0     0    0     0     1     1     0  \n",
       "\n",
       "[5 rows x 376 columns]"
      ]
     },
     "execution_count": 10,
     "metadata": {},
     "output_type": "execute_result"
    }
   ],
   "source": [
    "# Step8: If for any column(s), the variance is equal to zero, \n",
    "# then you need to remove those variable(s).\n",
    "# Apply label encoder\n",
    "\n",
    "for column in usable_columns:\n",
    "    cardinality = len(np.unique(x_train[column]))\n",
    "    if cardinality == 1:\n",
    "        x_train.drop(column, axis=1) # Column with only one \n",
    "        # value is useless so we drop it\n",
    "        x_test.drop(column, axis=1)\n",
    "    if cardinality > 2: # Column is categorical\n",
    "        mapper = lambda x: sum([ord(digit) for digit in x])\n",
    "        x_train[column] = x_train[column].apply(mapper)\n",
    "        x_test[column] = x_test[column].apply(mapper)\n",
    "x_train.head()"
   ]
  },
  {
   "cell_type": "code",
   "execution_count": 11,
   "metadata": {},
   "outputs": [
    {
     "name": "stdout",
     "output_type": "stream",
     "text": [
      "Feature types:\n"
     ]
    },
    {
     "data": {
      "text/plain": [
       "int64    376\n",
       "dtype: int64"
      ]
     },
     "execution_count": 11,
     "metadata": {},
     "output_type": "execute_result"
    }
   ],
   "source": [
    "# Step9: Make sure the data is now changed into numericals\n",
    "\n",
    "print('Feature types:')\n",
    "x_train[cols].dtypes.value_counts()"
   ]
  },
  {
   "cell_type": "code",
   "execution_count": 12,
   "metadata": {},
   "outputs": [],
   "source": [
    "# Step10: Perform dimensionality reduction\n",
    "# Linear dimensionality reduction using Singular Value Decomposition of \n",
    "# the data to project it to a lower dimensional space.\n",
    "n_comp = 12\n",
    "pca = PCA(n_components=n_comp, random_state=420)\n",
    "pca2_results_train = pca.fit_transform(x_train)\n",
    "pca2_results_test = pca.transform(x_test)"
   ]
  },
  {
   "cell_type": "code",
   "execution_count": 13,
   "metadata": {},
   "outputs": [],
   "source": [
    "# Step11: Training using xgboost\n",
    "\n",
    "import xgboost as xgb\n",
    "from sklearn.metrics import r2_score\n",
    "from sklearn.model_selection import train_test_split\n"
   ]
  },
  {
   "cell_type": "code",
   "execution_count": 14,
   "metadata": {},
   "outputs": [],
   "source": [
    "x_train, x_valid, y_train, y_valid = train_test_split(\n",
    "        pca2_results_train, \n",
    "        y_train, test_size=0.2, \n",
    "        random_state=4242)"
   ]
  },
  {
   "cell_type": "code",
   "execution_count": 15,
   "metadata": {},
   "outputs": [],
   "source": [
    "d_train = xgb.DMatrix(x_train, label=y_train)\n",
    "d_valid = xgb.DMatrix(x_valid, label=y_valid)\n",
    "#d_test = xgb.DMatrix(x_test)\n",
    "d_test = xgb.DMatrix(pca2_results_test)"
   ]
  },
  {
   "cell_type": "code",
   "execution_count": 16,
   "metadata": {},
   "outputs": [],
   "source": [
    "params = {}\n",
    "params['objective'] = 'reg:linear'\n",
    "params['eta'] = 0.02\n",
    "params['max_depth'] = 4"
   ]
  },
  {
   "cell_type": "code",
   "execution_count": 17,
   "metadata": {},
   "outputs": [
    {
     "name": "stdout",
     "output_type": "stream",
     "text": [
      "[22:53:56] WARNING: c:\\ci\\xgboost-split_1619728435298\\work\\src\\objective\\regression_obj.cu:170: reg:linear is now deprecated in favor of reg:squarederror.\n",
      "[0]\ttrain-rmse:99.14835\ttrain-r2:-58.35295\tvalid-rmse:98.26297\tvalid-r2:-67.63754\n",
      "[10]\ttrain-rmse:81.27651\ttrain-r2:-38.88428\tvalid-rmse:80.36433\tvalid-r2:-44.91014\n",
      "[20]\ttrain-rmse:66.71610\ttrain-r2:-25.87403\tvalid-rmse:65.77334\tvalid-r2:-29.75260\n",
      "[30]\ttrain-rmse:54.86915\ttrain-r2:-17.17724\tvalid-rmse:53.89119\tvalid-r2:-19.64513\n",
      "[40]\ttrain-rmse:45.24564\ttrain-r2:-11.36018\tvalid-rmse:44.22232\tvalid-r2:-12.90160\n",
      "[50]\ttrain-rmse:37.44741\ttrain-r2:-7.46672\tvalid-rmse:36.37758\tvalid-r2:-8.40697\n",
      "[60]\ttrain-rmse:31.15104\ttrain-r2:-4.85891\tvalid-rmse:30.01771\tvalid-r2:-5.40526\n",
      "[70]\ttrain-rmse:26.08767\ttrain-r2:-3.10906\tvalid-rmse:24.90843\tvalid-r2:-3.41037\n",
      "[80]\ttrain-rmse:22.04896\ttrain-r2:-1.93527\tvalid-rmse:20.82554\tvalid-r2:-2.08301\n",
      "[90]\ttrain-rmse:18.84730\ttrain-r2:-1.14472\tvalid-rmse:17.59520\tvalid-r2:-1.20075\n",
      "[100]\ttrain-rmse:16.33662\ttrain-r2:-0.61137\tvalid-rmse:15.07626\tvalid-r2:-0.61573\n",
      "[110]\ttrain-rmse:14.39752\ttrain-r2:-0.25155\tvalid-rmse:13.14546\tvalid-r2:-0.22838\n",
      "[120]\ttrain-rmse:12.92282\ttrain-r2:-0.00829\tvalid-rmse:11.68457\tvalid-r2:0.02947\n",
      "[130]\ttrain-rmse:11.81491\ttrain-r2:0.15718\tvalid-rmse:10.61418\tvalid-r2:0.19914\n",
      "[140]\ttrain-rmse:10.98412\ttrain-r2:0.27155\tvalid-rmse:9.85128\tvalid-r2:0.31013\n",
      "[150]\ttrain-rmse:10.37286\ttrain-r2:0.35037\tvalid-rmse:9.31602\tvalid-r2:0.38306\n",
      "[160]\ttrain-rmse:9.92385\ttrain-r2:0.40539\tvalid-rmse:8.95286\tvalid-r2:0.43022\n",
      "[170]\ttrain-rmse:9.59446\ttrain-r2:0.44421\tvalid-rmse:8.70782\tvalid-r2:0.46098\n",
      "[180]\ttrain-rmse:9.35086\ttrain-r2:0.47207\tvalid-rmse:8.54704\tvalid-r2:0.48071\n",
      "[190]\ttrain-rmse:9.16592\ttrain-r2:0.49275\tvalid-rmse:8.44115\tvalid-r2:0.49349\n",
      "[200]\ttrain-rmse:9.02125\ttrain-r2:0.50863\tvalid-rmse:8.37701\tvalid-r2:0.50116\n",
      "[210]\ttrain-rmse:8.91196\ttrain-r2:0.52047\tvalid-rmse:8.34192\tvalid-r2:0.50533\n",
      "[220]\ttrain-rmse:8.82786\ttrain-r2:0.52948\tvalid-rmse:8.31911\tvalid-r2:0.50803\n",
      "[230]\ttrain-rmse:8.76426\ttrain-r2:0.53623\tvalid-rmse:8.30226\tvalid-r2:0.51002\n",
      "[240]\ttrain-rmse:8.71793\ttrain-r2:0.54112\tvalid-rmse:8.29537\tvalid-r2:0.51084\n",
      "[250]\ttrain-rmse:8.67415\ttrain-r2:0.54572\tvalid-rmse:8.29053\tvalid-r2:0.51141\n",
      "[260]\ttrain-rmse:8.63749\ttrain-r2:0.54955\tvalid-rmse:8.28758\tvalid-r2:0.51176\n",
      "[270]\ttrain-rmse:8.60620\ttrain-r2:0.55281\tvalid-rmse:8.28675\tvalid-r2:0.51185\n",
      "[280]\ttrain-rmse:8.57825\ttrain-r2:0.55571\tvalid-rmse:8.28636\tvalid-r2:0.51190\n",
      "[290]\ttrain-rmse:8.54773\ttrain-r2:0.55886\tvalid-rmse:8.28826\tvalid-r2:0.51167\n",
      "[300]\ttrain-rmse:8.52733\ttrain-r2:0.56097\tvalid-rmse:8.28795\tvalid-r2:0.51171\n",
      "[310]\ttrain-rmse:8.50079\ttrain-r2:0.56369\tvalid-rmse:8.28587\tvalid-r2:0.51196\n",
      "[320]\ttrain-rmse:8.46996\ttrain-r2:0.56685\tvalid-rmse:8.28191\tvalid-r2:0.51242\n",
      "[330]\ttrain-rmse:8.44794\ttrain-r2:0.56910\tvalid-rmse:8.27975\tvalid-r2:0.51268\n",
      "[340]\ttrain-rmse:8.42394\ttrain-r2:0.57155\tvalid-rmse:8.28148\tvalid-r2:0.51247\n",
      "[350]\ttrain-rmse:8.40008\ttrain-r2:0.57397\tvalid-rmse:8.28126\tvalid-r2:0.51250\n",
      "[360]\ttrain-rmse:8.37667\ttrain-r2:0.57634\tvalid-rmse:8.28242\tvalid-r2:0.51236\n",
      "[370]\ttrain-rmse:8.35297\ttrain-r2:0.57874\tvalid-rmse:8.28073\tvalid-r2:0.51256\n",
      "[380]\ttrain-rmse:8.32810\ttrain-r2:0.58124\tvalid-rmse:8.27942\tvalid-r2:0.51272\n",
      "[390]\ttrain-rmse:8.30156\ttrain-r2:0.58391\tvalid-rmse:8.27593\tvalid-r2:0.51313\n",
      "[400]\ttrain-rmse:8.27871\ttrain-r2:0.58619\tvalid-rmse:8.27331\tvalid-r2:0.51343\n",
      "[410]\ttrain-rmse:8.25540\ttrain-r2:0.58852\tvalid-rmse:8.27255\tvalid-r2:0.51353\n",
      "[420]\ttrain-rmse:8.22904\ttrain-r2:0.59115\tvalid-rmse:8.27029\tvalid-r2:0.51379\n",
      "[430]\ttrain-rmse:8.20557\ttrain-r2:0.59347\tvalid-rmse:8.27132\tvalid-r2:0.51367\n",
      "[440]\ttrain-rmse:8.18220\ttrain-r2:0.59579\tvalid-rmse:8.26963\tvalid-r2:0.51387\n",
      "[450]\ttrain-rmse:8.15361\ttrain-r2:0.59861\tvalid-rmse:8.26801\tvalid-r2:0.51406\n",
      "[460]\ttrain-rmse:8.13213\ttrain-r2:0.60072\tvalid-rmse:8.26734\tvalid-r2:0.51414\n",
      "[470]\ttrain-rmse:8.10725\ttrain-r2:0.60316\tvalid-rmse:8.26507\tvalid-r2:0.51440\n",
      "[480]\ttrain-rmse:8.07682\ttrain-r2:0.60613\tvalid-rmse:8.26664\tvalid-r2:0.51422\n",
      "[490]\ttrain-rmse:8.05294\ttrain-r2:0.60846\tvalid-rmse:8.26961\tvalid-r2:0.51387\n",
      "[500]\ttrain-rmse:8.02876\ttrain-r2:0.61081\tvalid-rmse:8.27071\tvalid-r2:0.51374\n",
      "[510]\ttrain-rmse:8.00850\ttrain-r2:0.61277\tvalid-rmse:8.27260\tvalid-r2:0.51352\n",
      "[514]\ttrain-rmse:8.00167\ttrain-r2:0.61343\tvalid-rmse:8.27247\tvalid-r2:0.51353\n"
     ]
    }
   ],
   "source": [
    "def xgb_r2_score(preds, dtrain):\n",
    "    labels = dtrain.get_label()\n",
    "    return 'r2', r2_score(labels, preds)\n",
    "\n",
    "watchlist = [(d_train, 'train'), (d_valid, 'valid')]\n",
    "\n",
    "clf = xgb.train(params, d_train, \n",
    "                1000, watchlist, early_stopping_rounds=50, \n",
    "                feval=xgb_r2_score, maximize=True, verbose_eval=10)"
   ]
  },
  {
   "cell_type": "code",
   "execution_count": 18,
   "metadata": {},
   "outputs": [],
   "source": [
    "# Step12: Predict your test_df values using xgboost\n",
    "\n",
    "p_test = clf.predict(d_test)\n",
    "\n",
    "sub = pd.DataFrame()\n",
    "sub['ID'] = id_test\n",
    "sub['y'] = p_test\n",
    "sub.to_csv('xgb.csv', index=False)"
   ]
  },
  {
   "cell_type": "code",
   "execution_count": 19,
   "metadata": {},
   "outputs": [
    {
     "data": {
      "text/html": [
       "<div>\n",
       "<style scoped>\n",
       "    .dataframe tbody tr th:only-of-type {\n",
       "        vertical-align: middle;\n",
       "    }\n",
       "\n",
       "    .dataframe tbody tr th {\n",
       "        vertical-align: top;\n",
       "    }\n",
       "\n",
       "    .dataframe thead th {\n",
       "        text-align: right;\n",
       "    }\n",
       "</style>\n",
       "<table border=\"1\" class=\"dataframe\">\n",
       "  <thead>\n",
       "    <tr style=\"text-align: right;\">\n",
       "      <th></th>\n",
       "      <th>ID</th>\n",
       "      <th>y</th>\n",
       "    </tr>\n",
       "  </thead>\n",
       "  <tbody>\n",
       "    <tr>\n",
       "      <th>0</th>\n",
       "      <td>1</td>\n",
       "      <td>82.606285</td>\n",
       "    </tr>\n",
       "    <tr>\n",
       "      <th>1</th>\n",
       "      <td>2</td>\n",
       "      <td>97.195374</td>\n",
       "    </tr>\n",
       "    <tr>\n",
       "      <th>2</th>\n",
       "      <td>3</td>\n",
       "      <td>83.208588</td>\n",
       "    </tr>\n",
       "    <tr>\n",
       "      <th>3</th>\n",
       "      <td>4</td>\n",
       "      <td>77.146034</td>\n",
       "    </tr>\n",
       "    <tr>\n",
       "      <th>4</th>\n",
       "      <td>5</td>\n",
       "      <td>112.783669</td>\n",
       "    </tr>\n",
       "  </tbody>\n",
       "</table>\n",
       "</div>"
      ],
      "text/plain": [
       "   ID           y\n",
       "0   1   82.606285\n",
       "1   2   97.195374\n",
       "2   3   83.208588\n",
       "3   4   77.146034\n",
       "4   5  112.783669"
      ]
     },
     "execution_count": 19,
     "metadata": {},
     "output_type": "execute_result"
    }
   ],
   "source": [
    "sub.head()"
   ]
  },
  {
   "cell_type": "code",
   "execution_count": null,
   "metadata": {},
   "outputs": [],
   "source": []
  },
  {
   "cell_type": "code",
   "execution_count": null,
   "metadata": {},
   "outputs": [],
   "source": []
  },
  {
   "cell_type": "code",
   "execution_count": null,
   "metadata": {},
   "outputs": [],
   "source": []
  },
  {
   "cell_type": "code",
   "execution_count": null,
   "metadata": {
    "scrolled": false
   },
   "outputs": [],
   "source": []
  },
  {
   "cell_type": "code",
   "execution_count": null,
   "metadata": {},
   "outputs": [],
   "source": []
  }
 ],
 "metadata": {
  "kernelspec": {
   "display_name": "Python 3",
   "language": "python",
   "name": "python3"
  },
  "language_info": {
   "codemirror_mode": {
    "name": "ipython",
    "version": 3
   },
   "file_extension": ".py",
   "mimetype": "text/x-python",
   "name": "python",
   "nbconvert_exporter": "python",
   "pygments_lexer": "ipython3",
   "version": "3.8.5"
  }
 },
 "nbformat": 4,
 "nbformat_minor": 4
}
