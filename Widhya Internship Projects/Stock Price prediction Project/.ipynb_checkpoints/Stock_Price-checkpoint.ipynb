{
 "cells": [
  {
   "cell_type": "code",
   "execution_count": 1,
   "metadata": {},
   "outputs": [
    {
     "name": "stdout",
     "output_type": "stream",
     "text": [
      "Requirement already satisfied: quandl in c:\\programdata\\anaconda3\\lib\\site-packages (3.6.0)\n",
      "Requirement already satisfied: inflection>=0.3.1 in c:\\programdata\\anaconda3\\lib\\site-packages (from quandl) (0.5.1)\n",
      "Requirement already satisfied: numpy>=1.8 in c:\\programdata\\anaconda3\\lib\\site-packages (from quandl) (1.19.5)\n",
      "Requirement already satisfied: more-itertools in c:\\programdata\\anaconda3\\lib\\site-packages (from quandl) (8.6.0)\n",
      "Requirement already satisfied: pandas>=0.14 in c:\\programdata\\anaconda3\\lib\\site-packages (from quandl) (1.2.0)\n",
      "Requirement already satisfied: requests>=2.7.0 in c:\\programdata\\anaconda3\\lib\\site-packages (from quandl) (2.25.1)\n",
      "Requirement already satisfied: six in c:\\programdata\\anaconda3\\lib\\site-packages (from quandl) (1.15.0)\n",
      "Requirement already satisfied: python-dateutil in c:\\programdata\\anaconda3\\lib\\site-packages (from quandl) (2.8.1)\n",
      "Requirement already satisfied: pytz>=2017.3 in c:\\programdata\\anaconda3\\lib\\site-packages (from pandas>=0.14->quandl) (2020.5)\n",
      "Requirement already satisfied: certifi>=2017.4.17 in c:\\programdata\\anaconda3\\lib\\site-packages (from requests>=2.7.0->quandl) (2020.12.5)\n",
      "Requirement already satisfied: chardet<5,>=3.0.2 in c:\\programdata\\anaconda3\\lib\\site-packages (from requests>=2.7.0->quandl) (4.0.0)\n",
      "Requirement already satisfied: urllib3<1.27,>=1.21.1 in c:\\programdata\\anaconda3\\lib\\site-packages (from requests>=2.7.0->quandl) (1.26.2)\n",
      "Requirement already satisfied: idna<3,>=2.5 in c:\\programdata\\anaconda3\\lib\\site-packages (from requests>=2.7.0->quandl) (2.10)\n",
      "Requirement already satisfied: sklearn in c:\\programdata\\anaconda3\\lib\\site-packages (0.0)\n",
      "Requirement already satisfied: scikit-learn in c:\\programdata\\anaconda3\\lib\\site-packages (from sklearn) (0.24.0)\n",
      "Requirement already satisfied: scipy>=0.19.1 in c:\\programdata\\anaconda3\\lib\\site-packages (from scikit-learn->sklearn) (1.6.0)\n",
      "Requirement already satisfied: threadpoolctl>=2.0.0 in c:\\programdata\\anaconda3\\lib\\site-packages (from scikit-learn->sklearn) (2.1.0)\n",
      "Requirement already satisfied: numpy>=1.13.3 in c:\\programdata\\anaconda3\\lib\\site-packages (from scikit-learn->sklearn) (1.19.5)\n",
      "Requirement already satisfied: joblib>=0.11 in c:\\programdata\\anaconda3\\lib\\site-packages (from scikit-learn->sklearn) (1.0.0)\n"
     ]
    }
   ],
   "source": [
    "import pandas as pd\n",
    "import numpy as np\n",
    "import seaborn as sns\n",
    "import os\n",
    "import matplotlib.pyplot as plt\n",
    "!pip install quandl\n",
    "import quandl\n",
    "!pip install sklearn\n",
    "import sklearn\n",
    "from sklearn import preprocessing\n",
    "from sklearn.preprocessing import MinMaxScaler\n",
    "from sklearn.model_selection import train_test_split\n",
    "from sklearn.linear_model import LinearRegression\n",
    "from sklearn.metrics import mean_squared_error\n",
    "import time"
   ]
  },
  {
   "cell_type": "code",
   "execution_count": 2,
   "metadata": {},
   "outputs": [],
   "source": [
    "quandl.ApiConfig.api_key = \"VzeyLzQBawyjqee5VXLv\""
   ]
  },
  {
   "cell_type": "code",
   "execution_count": 3,
   "metadata": {},
   "outputs": [
    {
     "data": {
      "text/html": [
       "<div>\n",
       "<style scoped>\n",
       "    .dataframe tbody tr th:only-of-type {\n",
       "        vertical-align: middle;\n",
       "    }\n",
       "\n",
       "    .dataframe tbody tr th {\n",
       "        vertical-align: top;\n",
       "    }\n",
       "\n",
       "    .dataframe thead th {\n",
       "        text-align: right;\n",
       "    }\n",
       "</style>\n",
       "<table border=\"1\" class=\"dataframe\">\n",
       "  <thead>\n",
       "    <tr style=\"text-align: right;\">\n",
       "      <th></th>\n",
       "      <th>Open</th>\n",
       "      <th>High</th>\n",
       "      <th>Low</th>\n",
       "      <th>Close</th>\n",
       "      <th>Volume</th>\n",
       "      <th>Dividend</th>\n",
       "      <th>Split</th>\n",
       "      <th>Adj_Open</th>\n",
       "      <th>Adj_High</th>\n",
       "      <th>Adj_Low</th>\n",
       "      <th>Adj_Close</th>\n",
       "      <th>Adj_Volume</th>\n",
       "    </tr>\n",
       "    <tr>\n",
       "      <th>Date</th>\n",
       "      <th></th>\n",
       "      <th></th>\n",
       "      <th></th>\n",
       "      <th></th>\n",
       "      <th></th>\n",
       "      <th></th>\n",
       "      <th></th>\n",
       "      <th></th>\n",
       "      <th></th>\n",
       "      <th></th>\n",
       "      <th></th>\n",
       "      <th></th>\n",
       "    </tr>\n",
       "  </thead>\n",
       "  <tbody>\n",
       "    <tr>\n",
       "      <th>2013-09-03</th>\n",
       "      <td>493.10</td>\n",
       "      <td>500.60</td>\n",
       "      <td>487.35</td>\n",
       "      <td>488.580</td>\n",
       "      <td>11854600.0</td>\n",
       "      <td>0.0</td>\n",
       "      <td>1.0</td>\n",
       "      <td>15.619650</td>\n",
       "      <td>15.857223</td>\n",
       "      <td>15.437510</td>\n",
       "      <td>15.476472</td>\n",
       "      <td>331928800.0</td>\n",
       "    </tr>\n",
       "    <tr>\n",
       "      <th>2013-09-04</th>\n",
       "      <td>499.56</td>\n",
       "      <td>502.24</td>\n",
       "      <td>496.28</td>\n",
       "      <td>498.691</td>\n",
       "      <td>12322600.0</td>\n",
       "      <td>0.0</td>\n",
       "      <td>1.0</td>\n",
       "      <td>15.824280</td>\n",
       "      <td>15.909173</td>\n",
       "      <td>15.720381</td>\n",
       "      <td>15.796753</td>\n",
       "      <td>345032800.0</td>\n",
       "    </tr>\n",
       "    <tr>\n",
       "      <th>2013-09-05</th>\n",
       "      <td>500.25</td>\n",
       "      <td>500.68</td>\n",
       "      <td>493.64</td>\n",
       "      <td>495.270</td>\n",
       "      <td>8441700.0</td>\n",
       "      <td>0.0</td>\n",
       "      <td>1.0</td>\n",
       "      <td>15.846136</td>\n",
       "      <td>15.859757</td>\n",
       "      <td>15.636755</td>\n",
       "      <td>15.688388</td>\n",
       "      <td>236367600.0</td>\n",
       "    </tr>\n",
       "    <tr>\n",
       "      <th>2013-09-06</th>\n",
       "      <td>498.44</td>\n",
       "      <td>499.38</td>\n",
       "      <td>489.95</td>\n",
       "      <td>498.220</td>\n",
       "      <td>12840200.0</td>\n",
       "      <td>0.0</td>\n",
       "      <td>1.0</td>\n",
       "      <td>15.788802</td>\n",
       "      <td>15.818578</td>\n",
       "      <td>15.519869</td>\n",
       "      <td>15.781833</td>\n",
       "      <td>359525600.0</td>\n",
       "    </tr>\n",
       "    <tr>\n",
       "      <th>2013-09-09</th>\n",
       "      <td>505.00</td>\n",
       "      <td>507.92</td>\n",
       "      <td>503.48</td>\n",
       "      <td>506.170</td>\n",
       "      <td>12167400.0</td>\n",
       "      <td>0.0</td>\n",
       "      <td>1.0</td>\n",
       "      <td>15.996600</td>\n",
       "      <td>16.089095</td>\n",
       "      <td>15.948451</td>\n",
       "      <td>16.033661</td>\n",
       "      <td>340687200.0</td>\n",
       "    </tr>\n",
       "  </tbody>\n",
       "</table>\n",
       "</div>"
      ],
      "text/plain": [
       "              Open    High     Low    Close      Volume  Dividend  Split  \\\n",
       "Date                                                                       \n",
       "2013-09-03  493.10  500.60  487.35  488.580  11854600.0       0.0    1.0   \n",
       "2013-09-04  499.56  502.24  496.28  498.691  12322600.0       0.0    1.0   \n",
       "2013-09-05  500.25  500.68  493.64  495.270   8441700.0       0.0    1.0   \n",
       "2013-09-06  498.44  499.38  489.95  498.220  12840200.0       0.0    1.0   \n",
       "2013-09-09  505.00  507.92  503.48  506.170  12167400.0       0.0    1.0   \n",
       "\n",
       "             Adj_Open   Adj_High    Adj_Low  Adj_Close   Adj_Volume  \n",
       "Date                                                                 \n",
       "2013-09-03  15.619650  15.857223  15.437510  15.476472  331928800.0  \n",
       "2013-09-04  15.824280  15.909173  15.720381  15.796753  345032800.0  \n",
       "2013-09-05  15.846136  15.859757  15.636755  15.688388  236367600.0  \n",
       "2013-09-06  15.788802  15.818578  15.519869  15.781833  359525600.0  \n",
       "2013-09-09  15.996600  16.089095  15.948451  16.033661  340687200.0  "
      ]
     },
     "execution_count": 3,
     "metadata": {},
     "output_type": "execute_result"
    }
   ],
   "source": [
    "df = quandl.get(\"EOD/AAPL\")\n",
    "df.head()"
   ]
  },
  {
   "cell_type": "code",
   "execution_count": 4,
   "metadata": {},
   "outputs": [
    {
     "data": {
      "text/plain": [
       "Split\n",
       "False    1089\n",
       "True        1\n",
       "dtype: int64"
      ]
     },
     "execution_count": 4,
     "metadata": {},
     "output_type": "execute_result"
    }
   ],
   "source": [
    "(df[['Split']]!=1).value_counts()"
   ]
  },
  {
   "cell_type": "code",
   "execution_count": 5,
   "metadata": {},
   "outputs": [
    {
     "data": {
      "text/html": [
       "<div>\n",
       "<style scoped>\n",
       "    .dataframe tbody tr th:only-of-type {\n",
       "        vertical-align: middle;\n",
       "    }\n",
       "\n",
       "    .dataframe tbody tr th {\n",
       "        vertical-align: top;\n",
       "    }\n",
       "\n",
       "    .dataframe thead th {\n",
       "        text-align: right;\n",
       "    }\n",
       "</style>\n",
       "<table border=\"1\" class=\"dataframe\">\n",
       "  <thead>\n",
       "    <tr style=\"text-align: right;\">\n",
       "      <th></th>\n",
       "      <th>Open</th>\n",
       "      <th>High</th>\n",
       "      <th>Low</th>\n",
       "      <th>Close</th>\n",
       "      <th>Volume</th>\n",
       "      <th>Dividend</th>\n",
       "      <th>Split</th>\n",
       "      <th>Adj_Open</th>\n",
       "      <th>Adj_High</th>\n",
       "      <th>Adj_Low</th>\n",
       "      <th>Adj_Close</th>\n",
       "      <th>Adj_Volume</th>\n",
       "    </tr>\n",
       "    <tr>\n",
       "      <th>Date</th>\n",
       "      <th></th>\n",
       "      <th></th>\n",
       "      <th></th>\n",
       "      <th></th>\n",
       "      <th></th>\n",
       "      <th></th>\n",
       "      <th></th>\n",
       "      <th></th>\n",
       "      <th></th>\n",
       "      <th></th>\n",
       "      <th></th>\n",
       "      <th></th>\n",
       "    </tr>\n",
       "  </thead>\n",
       "  <tbody>\n",
       "    <tr>\n",
       "      <th>2014-06-09</th>\n",
       "      <td>92.7</td>\n",
       "      <td>93.88</td>\n",
       "      <td>91.75</td>\n",
       "      <td>93.7</td>\n",
       "      <td>75414997.0</td>\n",
       "      <td>0.0</td>\n",
       "      <td>7.0</td>\n",
       "      <td>20.914601</td>\n",
       "      <td>21.180828</td>\n",
       "      <td>20.700266</td>\n",
       "      <td>21.140217</td>\n",
       "      <td>301659988.0</td>\n",
       "    </tr>\n",
       "  </tbody>\n",
       "</table>\n",
       "</div>"
      ],
      "text/plain": [
       "            Open   High    Low  Close      Volume  Dividend  Split   Adj_Open  \\\n",
       "Date                                                                            \n",
       "2014-06-09  92.7  93.88  91.75   93.7  75414997.0       0.0    7.0  20.914601   \n",
       "\n",
       "             Adj_High    Adj_Low  Adj_Close   Adj_Volume  \n",
       "Date                                                      \n",
       "2014-06-09  21.180828  20.700266  21.140217  301659988.0  "
      ]
     },
     "execution_count": 5,
     "metadata": {},
     "output_type": "execute_result"
    }
   ],
   "source": [
    "df.loc[df['Split']!=1]"
   ]
  },
  {
   "cell_type": "code",
   "execution_count": 6,
   "metadata": {},
   "outputs": [
    {
     "data": {
      "text/plain": [
       "Dividend\n",
       "False       1073\n",
       "True          17\n",
       "dtype: int64"
      ]
     },
     "execution_count": 6,
     "metadata": {},
     "output_type": "execute_result"
    }
   ],
   "source": [
    "(df[['Dividend']]!=0).value_counts()"
   ]
  },
  {
   "cell_type": "code",
   "execution_count": 7,
   "metadata": {},
   "outputs": [
    {
     "data": {
      "text/html": [
       "<div>\n",
       "<style scoped>\n",
       "    .dataframe tbody tr th:only-of-type {\n",
       "        vertical-align: middle;\n",
       "    }\n",
       "\n",
       "    .dataframe tbody tr th {\n",
       "        vertical-align: top;\n",
       "    }\n",
       "\n",
       "    .dataframe thead th {\n",
       "        text-align: right;\n",
       "    }\n",
       "</style>\n",
       "<table border=\"1\" class=\"dataframe\">\n",
       "  <thead>\n",
       "    <tr style=\"text-align: right;\">\n",
       "      <th></th>\n",
       "      <th>Open</th>\n",
       "      <th>High</th>\n",
       "      <th>Low</th>\n",
       "      <th>Close</th>\n",
       "      <th>Volume</th>\n",
       "      <th>Dividend</th>\n",
       "      <th>Split</th>\n",
       "      <th>Adj_Open</th>\n",
       "      <th>Adj_High</th>\n",
       "      <th>Adj_Low</th>\n",
       "      <th>Adj_Close</th>\n",
       "      <th>Adj_Volume</th>\n",
       "    </tr>\n",
       "    <tr>\n",
       "      <th>Date</th>\n",
       "      <th></th>\n",
       "      <th></th>\n",
       "      <th></th>\n",
       "      <th></th>\n",
       "      <th></th>\n",
       "      <th></th>\n",
       "      <th></th>\n",
       "      <th></th>\n",
       "      <th></th>\n",
       "      <th></th>\n",
       "      <th></th>\n",
       "      <th></th>\n",
       "    </tr>\n",
       "  </thead>\n",
       "  <tbody>\n",
       "    <tr>\n",
       "      <th>2013-11-06</th>\n",
       "      <td>524.15</td>\n",
       "      <td>524.860</td>\n",
       "      <td>518.200</td>\n",
       "      <td>520.92</td>\n",
       "      <td>7977700.0</td>\n",
       "      <td>3.05</td>\n",
       "      <td>1.0</td>\n",
       "      <td>16.700415</td>\n",
       "      <td>16.723037</td>\n",
       "      <td>16.510837</td>\n",
       "      <td>16.597501</td>\n",
       "      <td>223375600.0</td>\n",
       "    </tr>\n",
       "    <tr>\n",
       "      <th>2014-02-06</th>\n",
       "      <td>510.06</td>\n",
       "      <td>513.500</td>\n",
       "      <td>507.810</td>\n",
       "      <td>512.51</td>\n",
       "      <td>9205900.0</td>\n",
       "      <td>3.05</td>\n",
       "      <td>1.0</td>\n",
       "      <td>16.348195</td>\n",
       "      <td>16.458453</td>\n",
       "      <td>16.276080</td>\n",
       "      <td>16.426722</td>\n",
       "      <td>257765200.0</td>\n",
       "    </tr>\n",
       "    <tr>\n",
       "      <th>2014-05-08</th>\n",
       "      <td>588.25</td>\n",
       "      <td>594.410</td>\n",
       "      <td>586.400</td>\n",
       "      <td>587.99</td>\n",
       "      <td>8224900.0</td>\n",
       "      <td>3.29</td>\n",
       "      <td>1.0</td>\n",
       "      <td>18.959800</td>\n",
       "      <td>19.158342</td>\n",
       "      <td>18.900172</td>\n",
       "      <td>18.951419</td>\n",
       "      <td>230297200.0</td>\n",
       "    </tr>\n",
       "    <tr>\n",
       "      <th>2014-08-07</th>\n",
       "      <td>94.93</td>\n",
       "      <td>95.950</td>\n",
       "      <td>94.100</td>\n",
       "      <td>94.48</td>\n",
       "      <td>46711000.0</td>\n",
       "      <td>0.47</td>\n",
       "      <td>1.0</td>\n",
       "      <td>21.524269</td>\n",
       "      <td>21.755542</td>\n",
       "      <td>21.336076</td>\n",
       "      <td>21.422237</td>\n",
       "      <td>186844000.0</td>\n",
       "    </tr>\n",
       "    <tr>\n",
       "      <th>2014-11-06</th>\n",
       "      <td>108.60</td>\n",
       "      <td>108.790</td>\n",
       "      <td>107.800</td>\n",
       "      <td>108.70</td>\n",
       "      <td>34968457.0</td>\n",
       "      <td>0.47</td>\n",
       "      <td>1.0</td>\n",
       "      <td>24.730251</td>\n",
       "      <td>24.773517</td>\n",
       "      <td>24.548076</td>\n",
       "      <td>24.753023</td>\n",
       "      <td>139873828.0</td>\n",
       "    </tr>\n",
       "    <tr>\n",
       "      <th>2015-02-05</th>\n",
       "      <td>120.02</td>\n",
       "      <td>120.230</td>\n",
       "      <td>119.250</td>\n",
       "      <td>119.94</td>\n",
       "      <td>42246245.0</td>\n",
       "      <td>0.47</td>\n",
       "      <td>1.0</td>\n",
       "      <td>27.437898</td>\n",
       "      <td>27.485906</td>\n",
       "      <td>27.261867</td>\n",
       "      <td>27.419609</td>\n",
       "      <td>168984980.0</td>\n",
       "    </tr>\n",
       "    <tr>\n",
       "      <th>2015-05-07</th>\n",
       "      <td>124.77</td>\n",
       "      <td>126.080</td>\n",
       "      <td>124.020</td>\n",
       "      <td>125.26</td>\n",
       "      <td>43940895.0</td>\n",
       "      <td>0.52</td>\n",
       "      <td>1.0</td>\n",
       "      <td>28.642213</td>\n",
       "      <td>28.942936</td>\n",
       "      <td>28.470043</td>\n",
       "      <td>28.754697</td>\n",
       "      <td>175763580.0</td>\n",
       "    </tr>\n",
       "    <tr>\n",
       "      <th>2015-08-06</th>\n",
       "      <td>115.97</td>\n",
       "      <td>116.500</td>\n",
       "      <td>114.115</td>\n",
       "      <td>115.13</td>\n",
       "      <td>52903040.0</td>\n",
       "      <td>0.52</td>\n",
       "      <td>1.0</td>\n",
       "      <td>26.742326</td>\n",
       "      <td>26.864542</td>\n",
       "      <td>26.314569</td>\n",
       "      <td>26.548625</td>\n",
       "      <td>211612160.0</td>\n",
       "    </tr>\n",
       "    <tr>\n",
       "      <th>2015-11-05</th>\n",
       "      <td>121.85</td>\n",
       "      <td>122.690</td>\n",
       "      <td>120.180</td>\n",
       "      <td>120.92</td>\n",
       "      <td>39552680.0</td>\n",
       "      <td>0.52</td>\n",
       "      <td>1.0</td>\n",
       "      <td>28.219069</td>\n",
       "      <td>28.413603</td>\n",
       "      <td>27.832316</td>\n",
       "      <td>28.003691</td>\n",
       "      <td>158210720.0</td>\n",
       "    </tr>\n",
       "    <tr>\n",
       "      <th>2016-02-04</th>\n",
       "      <td>95.86</td>\n",
       "      <td>97.330</td>\n",
       "      <td>95.190</td>\n",
       "      <td>96.60</td>\n",
       "      <td>46471652.0</td>\n",
       "      <td>0.52</td>\n",
       "      <td>1.0</td>\n",
       "      <td>22.319585</td>\n",
       "      <td>22.661853</td>\n",
       "      <td>22.163585</td>\n",
       "      <td>22.491883</td>\n",
       "      <td>185886608.0</td>\n",
       "    </tr>\n",
       "    <tr>\n",
       "      <th>2016-05-05</th>\n",
       "      <td>94.00</td>\n",
       "      <td>94.070</td>\n",
       "      <td>92.680</td>\n",
       "      <td>93.24</td>\n",
       "      <td>35890500.0</td>\n",
       "      <td>0.57</td>\n",
       "      <td>1.0</td>\n",
       "      <td>22.020309</td>\n",
       "      <td>22.036707</td>\n",
       "      <td>21.711088</td>\n",
       "      <td>21.842273</td>\n",
       "      <td>143562000.0</td>\n",
       "    </tr>\n",
       "    <tr>\n",
       "      <th>2016-08-04</th>\n",
       "      <td>105.58</td>\n",
       "      <td>106.000</td>\n",
       "      <td>105.280</td>\n",
       "      <td>105.87</td>\n",
       "      <td>27408650.0</td>\n",
       "      <td>0.57</td>\n",
       "      <td>1.0</td>\n",
       "      <td>24.866186</td>\n",
       "      <td>24.965104</td>\n",
       "      <td>24.795530</td>\n",
       "      <td>24.934486</td>\n",
       "      <td>109634600.0</td>\n",
       "    </tr>\n",
       "    <tr>\n",
       "      <th>2016-11-03</th>\n",
       "      <td>110.98</td>\n",
       "      <td>111.460</td>\n",
       "      <td>109.550</td>\n",
       "      <td>109.83</td>\n",
       "      <td>26932602.0</td>\n",
       "      <td>0.57</td>\n",
       "      <td>1.0</td>\n",
       "      <td>26.273645</td>\n",
       "      <td>26.387281</td>\n",
       "      <td>25.935104</td>\n",
       "      <td>26.001391</td>\n",
       "      <td>107730408.0</td>\n",
       "    </tr>\n",
       "    <tr>\n",
       "      <th>2017-02-09</th>\n",
       "      <td>131.65</td>\n",
       "      <td>132.445</td>\n",
       "      <td>131.120</td>\n",
       "      <td>132.42</td>\n",
       "      <td>28349859.0</td>\n",
       "      <td>0.57</td>\n",
       "      <td>1.0</td>\n",
       "      <td>31.301264</td>\n",
       "      <td>31.490284</td>\n",
       "      <td>31.175250</td>\n",
       "      <td>31.484340</td>\n",
       "      <td>113399436.0</td>\n",
       "    </tr>\n",
       "    <tr>\n",
       "      <th>2017-05-11</th>\n",
       "      <td>152.45</td>\n",
       "      <td>154.070</td>\n",
       "      <td>152.310</td>\n",
       "      <td>153.95</td>\n",
       "      <td>27255058.0</td>\n",
       "      <td>0.63</td>\n",
       "      <td>1.0</td>\n",
       "      <td>36.395027</td>\n",
       "      <td>36.781776</td>\n",
       "      <td>36.361604</td>\n",
       "      <td>36.753128</td>\n",
       "      <td>109020232.0</td>\n",
       "    </tr>\n",
       "    <tr>\n",
       "      <th>2017-08-10</th>\n",
       "      <td>159.90</td>\n",
       "      <td>160.000</td>\n",
       "      <td>154.630</td>\n",
       "      <td>155.32</td>\n",
       "      <td>40804273.0</td>\n",
       "      <td>0.63</td>\n",
       "      <td>1.0</td>\n",
       "      <td>38.328434</td>\n",
       "      <td>38.352404</td>\n",
       "      <td>37.065202</td>\n",
       "      <td>37.230597</td>\n",
       "      <td>163217092.0</td>\n",
       "    </tr>\n",
       "    <tr>\n",
       "      <th>2017-11-10</th>\n",
       "      <td>175.11</td>\n",
       "      <td>175.380</td>\n",
       "      <td>174.270</td>\n",
       "      <td>174.67</td>\n",
       "      <td>25145500.0</td>\n",
       "      <td>0.63</td>\n",
       "      <td>1.0</td>\n",
       "      <td>42.125703</td>\n",
       "      <td>42.190656</td>\n",
       "      <td>41.923626</td>\n",
       "      <td>42.019853</td>\n",
       "      <td>100582000.0</td>\n",
       "    </tr>\n",
       "  </tbody>\n",
       "</table>\n",
       "</div>"
      ],
      "text/plain": [
       "              Open     High      Low   Close      Volume  Dividend  Split  \\\n",
       "Date                                                                        \n",
       "2013-11-06  524.15  524.860  518.200  520.92   7977700.0      3.05    1.0   \n",
       "2014-02-06  510.06  513.500  507.810  512.51   9205900.0      3.05    1.0   \n",
       "2014-05-08  588.25  594.410  586.400  587.99   8224900.0      3.29    1.0   \n",
       "2014-08-07   94.93   95.950   94.100   94.48  46711000.0      0.47    1.0   \n",
       "2014-11-06  108.60  108.790  107.800  108.70  34968457.0      0.47    1.0   \n",
       "2015-02-05  120.02  120.230  119.250  119.94  42246245.0      0.47    1.0   \n",
       "2015-05-07  124.77  126.080  124.020  125.26  43940895.0      0.52    1.0   \n",
       "2015-08-06  115.97  116.500  114.115  115.13  52903040.0      0.52    1.0   \n",
       "2015-11-05  121.85  122.690  120.180  120.92  39552680.0      0.52    1.0   \n",
       "2016-02-04   95.86   97.330   95.190   96.60  46471652.0      0.52    1.0   \n",
       "2016-05-05   94.00   94.070   92.680   93.24  35890500.0      0.57    1.0   \n",
       "2016-08-04  105.58  106.000  105.280  105.87  27408650.0      0.57    1.0   \n",
       "2016-11-03  110.98  111.460  109.550  109.83  26932602.0      0.57    1.0   \n",
       "2017-02-09  131.65  132.445  131.120  132.42  28349859.0      0.57    1.0   \n",
       "2017-05-11  152.45  154.070  152.310  153.95  27255058.0      0.63    1.0   \n",
       "2017-08-10  159.90  160.000  154.630  155.32  40804273.0      0.63    1.0   \n",
       "2017-11-10  175.11  175.380  174.270  174.67  25145500.0      0.63    1.0   \n",
       "\n",
       "             Adj_Open   Adj_High    Adj_Low  Adj_Close   Adj_Volume  \n",
       "Date                                                                 \n",
       "2013-11-06  16.700415  16.723037  16.510837  16.597501  223375600.0  \n",
       "2014-02-06  16.348195  16.458453  16.276080  16.426722  257765200.0  \n",
       "2014-05-08  18.959800  19.158342  18.900172  18.951419  230297200.0  \n",
       "2014-08-07  21.524269  21.755542  21.336076  21.422237  186844000.0  \n",
       "2014-11-06  24.730251  24.773517  24.548076  24.753023  139873828.0  \n",
       "2015-02-05  27.437898  27.485906  27.261867  27.419609  168984980.0  \n",
       "2015-05-07  28.642213  28.942936  28.470043  28.754697  175763580.0  \n",
       "2015-08-06  26.742326  26.864542  26.314569  26.548625  211612160.0  \n",
       "2015-11-05  28.219069  28.413603  27.832316  28.003691  158210720.0  \n",
       "2016-02-04  22.319585  22.661853  22.163585  22.491883  185886608.0  \n",
       "2016-05-05  22.020309  22.036707  21.711088  21.842273  143562000.0  \n",
       "2016-08-04  24.866186  24.965104  24.795530  24.934486  109634600.0  \n",
       "2016-11-03  26.273645  26.387281  25.935104  26.001391  107730408.0  \n",
       "2017-02-09  31.301264  31.490284  31.175250  31.484340  113399436.0  \n",
       "2017-05-11  36.395027  36.781776  36.361604  36.753128  109020232.0  \n",
       "2017-08-10  38.328434  38.352404  37.065202  37.230597  163217092.0  \n",
       "2017-11-10  42.125703  42.190656  41.923626  42.019853  100582000.0  "
      ]
     },
     "execution_count": 7,
     "metadata": {},
     "output_type": "execute_result"
    }
   ],
   "source": [
    "df.loc[df['Dividend']!=0]"
   ]
  },
  {
   "cell_type": "code",
   "execution_count": 8,
   "metadata": {},
   "outputs": [],
   "source": [
    "df['HL_PCT'] = (df['Adj_High'] - df['Adj_Low']) / df['Adj_Close'] * 100"
   ]
  },
  {
   "cell_type": "code",
   "execution_count": 9,
   "metadata": {},
   "outputs": [],
   "source": [
    "df['PCT_change'] = (df['Adj_Close'] - df['Adj_Open']) / df['Adj_Open'] * 100"
   ]
  },
  {
   "cell_type": "code",
   "execution_count": 10,
   "metadata": {},
   "outputs": [
    {
     "data": {
      "text/html": [
       "<div>\n",
       "<style scoped>\n",
       "    .dataframe tbody tr th:only-of-type {\n",
       "        vertical-align: middle;\n",
       "    }\n",
       "\n",
       "    .dataframe tbody tr th {\n",
       "        vertical-align: top;\n",
       "    }\n",
       "\n",
       "    .dataframe thead th {\n",
       "        text-align: right;\n",
       "    }\n",
       "</style>\n",
       "<table border=\"1\" class=\"dataframe\">\n",
       "  <thead>\n",
       "    <tr style=\"text-align: right;\">\n",
       "      <th></th>\n",
       "      <th>Open</th>\n",
       "      <th>High</th>\n",
       "      <th>Low</th>\n",
       "      <th>Close</th>\n",
       "      <th>Volume</th>\n",
       "      <th>Dividend</th>\n",
       "      <th>Split</th>\n",
       "      <th>Adj_Open</th>\n",
       "      <th>Adj_High</th>\n",
       "      <th>Adj_Low</th>\n",
       "      <th>Adj_Close</th>\n",
       "      <th>Adj_Volume</th>\n",
       "      <th>HL_PCT</th>\n",
       "      <th>PCT_change</th>\n",
       "    </tr>\n",
       "    <tr>\n",
       "      <th>Date</th>\n",
       "      <th></th>\n",
       "      <th></th>\n",
       "      <th></th>\n",
       "      <th></th>\n",
       "      <th></th>\n",
       "      <th></th>\n",
       "      <th></th>\n",
       "      <th></th>\n",
       "      <th></th>\n",
       "      <th></th>\n",
       "      <th></th>\n",
       "      <th></th>\n",
       "      <th></th>\n",
       "      <th></th>\n",
       "    </tr>\n",
       "  </thead>\n",
       "  <tbody>\n",
       "    <tr>\n",
       "      <th>2013-09-03</th>\n",
       "      <td>493.10</td>\n",
       "      <td>500.60</td>\n",
       "      <td>487.35</td>\n",
       "      <td>488.580</td>\n",
       "      <td>11854600.0</td>\n",
       "      <td>0.0</td>\n",
       "      <td>1.0</td>\n",
       "      <td>15.619650</td>\n",
       "      <td>15.857223</td>\n",
       "      <td>15.437510</td>\n",
       "      <td>15.476472</td>\n",
       "      <td>331928800.0</td>\n",
       "      <td>2.711941</td>\n",
       "      <td>-0.916650</td>\n",
       "    </tr>\n",
       "    <tr>\n",
       "      <th>2013-09-04</th>\n",
       "      <td>499.56</td>\n",
       "      <td>502.24</td>\n",
       "      <td>496.28</td>\n",
       "      <td>498.691</td>\n",
       "      <td>12322600.0</td>\n",
       "      <td>0.0</td>\n",
       "      <td>1.0</td>\n",
       "      <td>15.824280</td>\n",
       "      <td>15.909173</td>\n",
       "      <td>15.720381</td>\n",
       "      <td>15.796753</td>\n",
       "      <td>345032800.0</td>\n",
       "      <td>1.195129</td>\n",
       "      <td>-0.173953</td>\n",
       "    </tr>\n",
       "    <tr>\n",
       "      <th>2013-09-05</th>\n",
       "      <td>500.25</td>\n",
       "      <td>500.68</td>\n",
       "      <td>493.64</td>\n",
       "      <td>495.270</td>\n",
       "      <td>8441700.0</td>\n",
       "      <td>0.0</td>\n",
       "      <td>1.0</td>\n",
       "      <td>15.846136</td>\n",
       "      <td>15.859757</td>\n",
       "      <td>15.636755</td>\n",
       "      <td>15.688388</td>\n",
       "      <td>236367600.0</td>\n",
       "      <td>1.421447</td>\n",
       "      <td>-0.995502</td>\n",
       "    </tr>\n",
       "    <tr>\n",
       "      <th>2013-09-06</th>\n",
       "      <td>498.44</td>\n",
       "      <td>499.38</td>\n",
       "      <td>489.95</td>\n",
       "      <td>498.220</td>\n",
       "      <td>12840200.0</td>\n",
       "      <td>0.0</td>\n",
       "      <td>1.0</td>\n",
       "      <td>15.788802</td>\n",
       "      <td>15.818578</td>\n",
       "      <td>15.519869</td>\n",
       "      <td>15.781833</td>\n",
       "      <td>359525600.0</td>\n",
       "      <td>1.892738</td>\n",
       "      <td>-0.044138</td>\n",
       "    </tr>\n",
       "    <tr>\n",
       "      <th>2013-09-09</th>\n",
       "      <td>505.00</td>\n",
       "      <td>507.92</td>\n",
       "      <td>503.48</td>\n",
       "      <td>506.170</td>\n",
       "      <td>12167400.0</td>\n",
       "      <td>0.0</td>\n",
       "      <td>1.0</td>\n",
       "      <td>15.996600</td>\n",
       "      <td>16.089095</td>\n",
       "      <td>15.948451</td>\n",
       "      <td>16.033661</td>\n",
       "      <td>340687200.0</td>\n",
       "      <td>0.877176</td>\n",
       "      <td>0.231683</td>\n",
       "    </tr>\n",
       "  </tbody>\n",
       "</table>\n",
       "</div>"
      ],
      "text/plain": [
       "              Open    High     Low    Close      Volume  Dividend  Split  \\\n",
       "Date                                                                       \n",
       "2013-09-03  493.10  500.60  487.35  488.580  11854600.0       0.0    1.0   \n",
       "2013-09-04  499.56  502.24  496.28  498.691  12322600.0       0.0    1.0   \n",
       "2013-09-05  500.25  500.68  493.64  495.270   8441700.0       0.0    1.0   \n",
       "2013-09-06  498.44  499.38  489.95  498.220  12840200.0       0.0    1.0   \n",
       "2013-09-09  505.00  507.92  503.48  506.170  12167400.0       0.0    1.0   \n",
       "\n",
       "             Adj_Open   Adj_High    Adj_Low  Adj_Close   Adj_Volume    HL_PCT  \\\n",
       "Date                                                                            \n",
       "2013-09-03  15.619650  15.857223  15.437510  15.476472  331928800.0  2.711941   \n",
       "2013-09-04  15.824280  15.909173  15.720381  15.796753  345032800.0  1.195129   \n",
       "2013-09-05  15.846136  15.859757  15.636755  15.688388  236367600.0  1.421447   \n",
       "2013-09-06  15.788802  15.818578  15.519869  15.781833  359525600.0  1.892738   \n",
       "2013-09-09  15.996600  16.089095  15.948451  16.033661  340687200.0  0.877176   \n",
       "\n",
       "            PCT_change  \n",
       "Date                    \n",
       "2013-09-03   -0.916650  \n",
       "2013-09-04   -0.173953  \n",
       "2013-09-05   -0.995502  \n",
       "2013-09-06   -0.044138  \n",
       "2013-09-09    0.231683  "
      ]
     },
     "execution_count": 10,
     "metadata": {},
     "output_type": "execute_result"
    }
   ],
   "source": [
    "df.head()"
   ]
  },
  {
   "cell_type": "code",
   "execution_count": 11,
   "metadata": {},
   "outputs": [
    {
     "data": {
      "text/plain": [
       "<AxesSubplot:>"
      ]
     },
     "execution_count": 11,
     "metadata": {},
     "output_type": "execute_result"
    },
    {
     "data": {
      "image/png": "[encoded data removed]",
      "text/plain": [
       "<Figure size 792x792 with 2 Axes>"
      ]
     },
     "metadata": {
      "needs_background": "light"
     },
     "output_type": "display_data"
    }
   ],
   "source": [
    "corrMatrix = df.corr()\n",
    "\n",
    "f,ax = plt.subplots(figsize=(11,11))\n",
    "\n",
    "cmap = sns.diverging_palette(230,20, as_cmap=True)\n",
    "\n",
    "sns.heatmap(corrMatrix,cmap=cmap ,vmax=.3, annot=True, center=0, square=True, linewidths=0.2,cbar_kws={\"shrink\": .6} )"
   ]
  },
  {
   "cell_type": "code",
   "execution_count": 12,
   "metadata": {},
   "outputs": [],
   "source": [
    "df2 = df[[\"Adj_Close\",\"Adj_Volume\",\"HL_PCT\",\"PCT_change\"]]"
   ]
  },
  {
   "cell_type": "code",
   "execution_count": 13,
   "metadata": {},
   "outputs": [
    {
     "data": {
      "text/html": [
       "<div>\n",
       "<style scoped>\n",
       "    .dataframe tbody tr th:only-of-type {\n",
       "        vertical-align: middle;\n",
       "    }\n",
       "\n",
       "    .dataframe tbody tr th {\n",
       "        vertical-align: top;\n",
       "    }\n",
       "\n",
       "    .dataframe thead th {\n",
       "        text-align: right;\n",
       "    }\n",
       "</style>\n",
       "<table border=\"1\" class=\"dataframe\">\n",
       "  <thead>\n",
       "    <tr style=\"text-align: right;\">\n",
       "      <th></th>\n",
       "      <th>Adj_Close</th>\n",
       "      <th>Adj_Volume</th>\n",
       "      <th>HL_PCT</th>\n",
       "      <th>PCT_change</th>\n",
       "    </tr>\n",
       "    <tr>\n",
       "      <th>Date</th>\n",
       "      <th></th>\n",
       "      <th></th>\n",
       "      <th></th>\n",
       "      <th></th>\n",
       "    </tr>\n",
       "  </thead>\n",
       "  <tbody>\n",
       "    <tr>\n",
       "      <th>2013-09-03</th>\n",
       "      <td>15.476472</td>\n",
       "      <td>331928800.0</td>\n",
       "      <td>2.711941</td>\n",
       "      <td>-0.916650</td>\n",
       "    </tr>\n",
       "    <tr>\n",
       "      <th>2013-09-04</th>\n",
       "      <td>15.796753</td>\n",
       "      <td>345032800.0</td>\n",
       "      <td>1.195129</td>\n",
       "      <td>-0.173953</td>\n",
       "    </tr>\n",
       "    <tr>\n",
       "      <th>2013-09-05</th>\n",
       "      <td>15.688388</td>\n",
       "      <td>236367600.0</td>\n",
       "      <td>1.421447</td>\n",
       "      <td>-0.995502</td>\n",
       "    </tr>\n",
       "    <tr>\n",
       "      <th>2013-09-06</th>\n",
       "      <td>15.781833</td>\n",
       "      <td>359525600.0</td>\n",
       "      <td>1.892738</td>\n",
       "      <td>-0.044138</td>\n",
       "    </tr>\n",
       "    <tr>\n",
       "      <th>2013-09-09</th>\n",
       "      <td>16.033661</td>\n",
       "      <td>340687200.0</td>\n",
       "      <td>0.877176</td>\n",
       "      <td>0.231683</td>\n",
       "    </tr>\n",
       "  </tbody>\n",
       "</table>\n",
       "</div>"
      ],
      "text/plain": [
       "            Adj_Close   Adj_Volume    HL_PCT  PCT_change\n",
       "Date                                                    \n",
       "2013-09-03  15.476472  331928800.0  2.711941   -0.916650\n",
       "2013-09-04  15.796753  345032800.0  1.195129   -0.173953\n",
       "2013-09-05  15.688388  236367600.0  1.421447   -0.995502\n",
       "2013-09-06  15.781833  359525600.0  1.892738   -0.044138\n",
       "2013-09-09  16.033661  340687200.0  0.877176    0.231683"
      ]
     },
     "execution_count": 13,
     "metadata": {},
     "output_type": "execute_result"
    }
   ],
   "source": [
    "df2.head()"
   ]
  },
  {
   "cell_type": "code",
   "execution_count": 14,
   "metadata": {},
   "outputs": [
    {
     "data": {
      "text/plain": [
       "<AxesSubplot:xlabel='Date'>"
      ]
     },
     "execution_count": 14,
     "metadata": {},
     "output_type": "execute_result"
    },
    {
     "data": {
      "image/png": "[encoded data removed]",
      "text/plain": [
       "<Figure size 720x576 with 1 Axes>"
      ]
     },
     "metadata": {
      "needs_background": "light"
     },
     "output_type": "display_data"
    }
   ],
   "source": [
    "df2['Adj_Close'].pct_change().plot(figsize=(10,8),grid=True)"
   ]
  },
  {
   "cell_type": "code",
   "execution_count": 15,
   "metadata": {},
   "outputs": [
    {
     "data": {
      "text/plain": [
       "[<matplotlib.lines.Line2D at 0x213ecea5f10>]"
      ]
     },
     "execution_count": 15,
     "metadata": {},
     "output_type": "execute_result"
    },
    {
     "data": {
      "image/png": "[encoded data removed]",
      "text/plain": [
       "<Figure size 720x576 with 1 Axes>"
      ]
     },
     "metadata": {
      "needs_background": "light"
     },
     "output_type": "display_data"
    }
   ],
   "source": [
    "#plot colse price\n",
    "plt.figure(figsize=(10,8))\n",
    "plt.plot(df2['Adj_Close'])"
   ]
  },
  {
   "cell_type": "code",
   "execution_count": 16,
   "metadata": {},
   "outputs": [
    {
     "name": "stdout",
     "output_type": "stream",
     "text": [
      "Shape of df2:  (1090, 4)\n",
      "Label having total null:  10\n",
      "Shape of Label:  (1090,)  This includes Null Values\n"
     ]
    },
    {
     "data": {
      "text/plain": [
       "(1080,)"
      ]
     },
     "execution_count": 16,
     "metadata": {},
     "output_type": "execute_result"
    }
   ],
   "source": [
    "print('Shape of df2: ', df2.shape)\n",
    "\n",
    "label=df2[\"Adj_Close\"].shift(-10)\n",
    "\n",
    "print(\"Label having total null: \", label.isna().sum())\n",
    "\n",
    "print(\"Shape of Label: \", label.shape, \" This includes Null Values\")\n",
    "\n",
    "label.dropna(inplace=True)\n",
    "y= np.array(label)\n",
    "y.shape"
   ]
  },
  {
   "cell_type": "code",
   "execution_count": 17,
   "metadata": {},
   "outputs": [
    {
     "data": {
      "text/plain": [
       "(1090, 3)"
      ]
     },
     "execution_count": 17,
     "metadata": {},
     "output_type": "execute_result"
    }
   ],
   "source": [
    "x=df2[[\"Adj_Volume\" , \"HL_PCT\" , \"PCT_change\"]]\n",
    "x.shape"
   ]
  },
  {
   "cell_type": "code",
   "execution_count": 18,
   "metadata": {},
   "outputs": [
    {
     "data": {
      "text/plain": [
       "(10, 3)"
      ]
     },
     "execution_count": 18,
     "metadata": {},
     "output_type": "execute_result"
    }
   ],
   "source": [
    "X_lately=x[-10:]\n",
    "\n",
    "x = x[:-10]\n",
    "X_lately.shape"
   ]
  },
  {
   "cell_type": "code",
   "execution_count": 19,
   "metadata": {},
   "outputs": [
    {
     "data": {
      "text/plain": [
       "(1080, 3)"
      ]
     },
     "execution_count": 19,
     "metadata": {},
     "output_type": "execute_result"
    }
   ],
   "source": [
    "x.shape"
   ]
  },
  {
   "cell_type": "code",
   "execution_count": 20,
   "metadata": {},
   "outputs": [],
   "source": [
    "X_train, X_test, Y_train, Y_test = train_test_split(x,y,test_size=0.3,random_state =2)\n",
    "norm = MinMaxScaler().fit(X_train)\n",
    "X_train=norm.transform(X_train)\n",
    "X_test=norm.transform(X_test)\n",
    "X_lately = norm.transform(X_lately)"
   ]
  },
  {
   "cell_type": "code",
   "execution_count": 21,
   "metadata": {},
   "outputs": [],
   "source": [
    "reg = LinearRegression()\n",
    "reg.fit(X_train, Y_train)\n",
    "score=reg.score(X_test,Y_test)"
   ]
  },
  {
   "cell_type": "code",
   "execution_count": 22,
   "metadata": {},
   "outputs": [
    {
     "data": {
      "text/plain": [
       "30.75372223600386"
      ]
     },
     "execution_count": 22,
     "metadata": {},
     "output_type": "execute_result"
    }
   ],
   "source": [
    "reg.intercept_"
   ]
  },
  {
   "cell_type": "code",
   "execution_count": 23,
   "metadata": {},
   "outputs": [
    {
     "data": {
      "text/plain": [
       "array([-33.32286783,  24.19958289,  -1.53864965])"
      ]
     },
     "execution_count": 23,
     "metadata": {},
     "output_type": "execute_result"
    }
   ],
   "source": [
    "reg.coef_"
   ]
  },
  {
   "cell_type": "code",
   "execution_count": 24,
   "metadata": {},
   "outputs": [],
   "source": [
    "forecast=[]\n",
    "forecast=reg.predict(X_lately)\n",
    "Y_pred= reg.predict(X_test)\n",
    "mse=mean_squared_error(Y_test,Y_pred)\n",
    "\n"
   ]
  },
  {
   "cell_type": "code",
   "execution_count": 25,
   "metadata": {},
   "outputs": [
    {
     "data": {
      "text/plain": [
       "27.42845072650933"
      ]
     },
     "execution_count": 25,
     "metadata": {},
     "output_type": "execute_result"
    }
   ],
   "source": [
    "mse"
   ]
  },
  {
   "cell_type": "code",
   "execution_count": 26,
   "metadata": {},
   "outputs": [
    {
     "data": {
      "text/plain": [
       "array([20.1128987 , 29.51362763, 29.66369571, 27.25172991, 27.49568199,\n",
       "       28.9673309 , 28.7222891 , 29.70476333, 28.78915447, 27.28615783,\n",
       "       28.19893224, 29.69028781, 25.29727348, 21.15657618, 20.13370776,\n",
       "       24.86836802, 29.39976285, 28.57629334, 27.50380437, 33.57494957,\n",
       "       29.55249838, 26.92580527, 30.12303457, 28.55888938, 28.24748622,\n",
       "       24.97124027, 28.67269584, 27.50247064, 27.36458776, 27.51316607,\n",
       "       25.34754829, 29.21985975, 29.23922198, 28.7885536 , 26.3974436 ,\n",
       "       18.56113476, 28.02808195, 29.3397774 , 31.11973342, 26.12678094,\n",
       "       25.58757654, 28.82145359, 27.72288762, 20.96662892, 30.59612048,\n",
       "       28.30765127, 28.69761545, 29.44189063, 28.26683759, 30.52537634,\n",
       "       20.03419215, 29.630868  , 29.58005459, 24.94823744, 28.59450591,\n",
       "       30.68876673, 27.63686401, 29.39744473, 24.60469004, 26.05710498,\n",
       "       27.01331863, 28.70327541, 22.55379105, 28.39335734, 19.94122313,\n",
       "       29.67040905, 29.02566897, 27.68008113, 24.00482447, 28.51848244,\n",
       "       27.84683686, 25.3145589 , 27.12552144, 30.70493681, 19.02034916,\n",
       "       29.78986919, 26.64003273, 25.9754045 , 24.20715483, 24.8990676 ,\n",
       "       29.39980519, 27.73053277, 34.53959935, 29.578343  , 22.72570169,\n",
       "       28.12436366, 28.42520145, 30.95043569, 28.6770456 , 27.00461096,\n",
       "       29.3547132 , 26.7425698 , 30.44463573, 27.38642305, 21.84273877,\n",
       "       16.32925957, 29.14570645, 29.61368115, 26.18814973, 22.64144452,\n",
       "       24.64392111, 22.87929701, 28.76083052, 19.12317455, 29.70891665,\n",
       "       29.14720797, 27.75921946, 30.25198725, 25.97229628, 28.70839754,\n",
       "       20.76475125, 29.30871647, 28.436849  , 28.43977708, 29.27309223,\n",
       "       28.71813843, 29.3854593 , 30.21563962, 30.44251008, 26.42244817,\n",
       "       27.88957201, 29.46440387, 29.41985384, 26.18768671, 29.35040383,\n",
       "       29.49659138, 26.44580538, 24.3771733 , 24.57262996, 29.28433656,\n",
       "       29.22349554, 26.42684305, 26.9164554 , 23.80699063, 29.49212663,\n",
       "       28.66465465, 26.09106123, 30.11338652, 22.6881799 , 28.87243821,\n",
       "       26.64048091, 27.8574814 , 19.69048614, 25.01045159, 26.6541676 ,\n",
       "       29.21173672, 18.01118115, 24.55721024, 26.65109158, 17.80214229,\n",
       "       22.99669055, 28.62934762, 24.33994649, 28.86679113, 30.48018931,\n",
       "       27.81071048, 26.68857222, 28.67789061, 29.93599929, 25.70341136,\n",
       "       27.84104246, 24.56012695, 24.13078447, 28.73713923, 27.32516451,\n",
       "       27.42710357, 28.23452068, 26.65824284, 24.60380426, 26.72369391,\n",
       "       27.3079713 , 27.676737  , 29.96821108, 28.25623517, 25.6073055 ,\n",
       "       30.49387277, 24.68922659, 24.87891739, 27.48987812, -6.54676773,\n",
       "       29.71011928, 28.64217034, 24.66279738, 27.4302063 , 28.11371675,\n",
       "       29.53986426, 30.49971524, 23.01218706, 24.1027365 , 18.92448002,\n",
       "       29.59587694, 29.07038999, 28.2837175 , 24.84289426, 29.375748  ,\n",
       "       25.67153995, 27.2143148 , 27.29327973, 28.31481989, 23.83568139,\n",
       "       20.56332691, 25.54435005, 29.4338087 , 27.36680731, 29.4859108 ,\n",
       "       26.60010822, 27.45913923, 22.6420209 , 28.25372511, 22.89996762,\n",
       "       26.48058061, 28.87052256, 19.28770748, 29.33265009, 28.29338924,\n",
       "       28.17875502, 27.35453912, 17.8763702 , 14.45185641, 28.47881315,\n",
       "       29.02375531, 31.07404133, 27.63830706, 28.83638174, 24.6457658 ,\n",
       "       25.70131842, 24.25019502, 29.25903276, 28.78889999, 29.73043166,\n",
       "       28.6765023 , 19.47361895, 26.32620999, 29.29950613, 22.73784411,\n",
       "       29.91446136, 26.26970447, 27.7557008 , 29.26062351, 24.01160888,\n",
       "       28.03036776, 30.59661852, 27.69067857, 29.06627112, 25.94191886,\n",
       "       25.96057192, 28.69886766, 20.53539961, 27.60055227, 20.76705731,\n",
       "       25.05405647, 30.08127892, 27.93566459, 26.91902989, 29.96266895,\n",
       "       27.45910134, 28.94238247, 23.02140817, 24.92290118, 18.77283185,\n",
       "       24.37187854, 29.60824497, 24.46001709, 24.17476963, 20.06824724,\n",
       "       30.1385999 , 30.47466173, 18.51199876, 24.65230532, 23.73146171,\n",
       "       28.94417677, 28.6077329 , 25.14829454, 24.66193685, 27.46281969,\n",
       "       26.97551948, 25.11605447, 28.69684966, 28.61033024, 27.85375315,\n",
       "       23.72505897, 24.90218109, 19.78968327, 18.61434963, 18.00312287,\n",
       "       27.06920515, 28.45459149, 27.69849033, 22.34176386, 25.7989383 ,\n",
       "       21.58294627, 27.96088785, 28.35637625, 27.59017859, 30.88468302,\n",
       "       27.58504351, 29.51943932, 28.70547869, 16.16380371, 29.30069623,\n",
       "       27.69301328, 30.13233343, 28.20078279, 29.74637396, 30.32137811,\n",
       "       30.76870377, 26.42838303, 23.93025689, 29.27364092, 28.66200807,\n",
       "       29.23538442, 24.95101164, 27.14014085, 25.36817189, 24.88800958,\n",
       "       30.63727711, 30.39162356, 29.15529946, 29.64000543, 24.72672927,\n",
       "       25.90145131, 23.13039396, 30.62101462, 29.67180606])"
      ]
     },
     "execution_count": 26,
     "metadata": {},
     "output_type": "execute_result"
    }
   ],
   "source": [
    "Y_pred"
   ]
  },
  {
   "cell_type": "code",
   "execution_count": 27,
   "metadata": {},
   "outputs": [
    {
     "data": {
      "text/plain": [
       "array([29.65515074, 26.70472351, 28.85707334, 28.39915127, 29.78912457,\n",
       "       29.88439252, 29.77139446, 27.94282092, 29.09948166, 30.18147504])"
      ]
     },
     "execution_count": 27,
     "metadata": {},
     "output_type": "execute_result"
    }
   ],
   "source": [
    "forecast"
   ]
  },
  {
   "cell_type": "code",
   "execution_count": 28,
   "metadata": {},
   "outputs": [
    {
     "data": {
      "text/plain": [
       "0.30710187989433135"
      ]
     },
     "execution_count": 28,
     "metadata": {},
     "output_type": "execute_result"
    }
   ],
   "source": [
    "score"
   ]
  },
  {
   "cell_type": "code",
   "execution_count": null,
   "metadata": {},
   "outputs": [],
   "source": []
  }
 ],
 "metadata": {
  "kernelspec": {
   "display_name": "Python 3",
   "language": "python",
   "name": "python3"
  },
  "language_info": {
   "codemirror_mode": {
    "name": "ipython",
    "version": 3
   },
   "file_extension": ".py",
   "mimetype": "text/x-python",
   "name": "python",
   "nbconvert_exporter": "python",
   "pygments_lexer": "ipython3",
   "version": "3.8.5"
  }
 },
 "nbformat": 4,
 "nbformat_minor": 4
}
